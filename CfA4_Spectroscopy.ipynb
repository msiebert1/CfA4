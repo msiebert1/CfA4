{
 "cells": [
  {
   "cell_type": "code",
   "execution_count": 22,
   "metadata": {},
   "outputs": [],
   "source": [
    "%matplotlib inline \n",
    "import matplotlib.pyplot as plt\n",
    "import numpy as np \n",
    "import glob as glob\n",
    "import random\n",
    "from statistics import mode\n",
    "from numpy import trapz\n",
    "from astropy.time import Time"
   ]
  },
  {
   "cell_type": "code",
   "execution_count": 23,
   "metadata": {},
   "outputs": [],
   "source": [
    "def gsmooth(x_array, y_array, var_y, vexp = .001, nsig = 5.0):\n",
    "    #returns smoothed flux array\n",
    "    # if no variance array create a constant one\n",
    "    if len(var_y) == 0:\n",
    "        var_y = np.zeros(len(y_array))\n",
    "        \n",
    "    for i in range(len(var_y)):\n",
    "        if var_y[i] == 0:\n",
    "            var_y[i] = 1E-20\n",
    "            # var_y[i] = 1E-31\n",
    "    \n",
    "    # Output y-array\n",
    "    new_y = np.zeros(len(x_array), float)\n",
    "    \n",
    "    # Loop over y-array elements\n",
    "    for i in range(len(x_array)):\n",
    "        \n",
    "        # Construct a Gaussian of sigma = vexp*x_array[i]\n",
    "        gaussian = np.zeros(len(x_array), float)\n",
    "        sigma = vexp*x_array[i]\n",
    "        \n",
    "        # Restrict range to +/- nsig sigma\n",
    "        sigrange = np.nonzero(abs(x_array-x_array[i]) <= nsig*sigma)\n",
    "        gaussian[sigrange] = (1/(sigma*np.sqrt(2*np.pi)))*np.exp(-0.5*((x_array[sigrange]-x_array[i])/sigma)**2)\n",
    "        \n",
    "        # Multiply Gaussian by 1 / variance\n",
    "        W_lambda = gaussian / var_y\n",
    "        \n",
    "        # Perform a weighted sum to give smoothed y value at x_array[i]\n",
    "        W0 = np.sum(W_lambda)\n",
    "        W1 = np.sum(W_lambda*y_array)\n",
    "        new_y[i] = W1/W0\n",
    "\n",
    "    # Return smoothed y-array\n",
    "    return new_y"
   ]
  },
  {
   "cell_type": "code",
   "execution_count": 24,
   "metadata": {},
   "outputs": [],
   "source": [
    "def deredshift(wavelength, z):\n",
    "    dered_wave = wavelength / (1+z)\n",
    "    return dered_wave"
   ]
  },
  {
   "cell_type": "code",
   "execution_count": 25,
   "metadata": {},
   "outputs": [],
   "source": [
    "def find_min_wave(dered_wave, sm_flux, w1 = 5900., w2 = 6500.):\n",
    "    elem_range = np.where((dered_wave > w1) & (dered_wave < w2)) #set domain as within minwave and maxwave\n",
    "    list(elem_range)\n",
    "    elem_wavelist = dered_wave[elem_range] \n",
    "    elem_fluxlist = sm_flux[elem_range] #find corresponding flux vales for wavelengths within domain\n",
    "    elem_flux = min(elem_fluxlist) #find minimum value within these flux vales to locate \"dip\"\n",
    "    elem_wavelength = dered_wave[np.where(sm_flux == elem_flux)][0] #find the corresponding wavelength\n",
    "    return(elem_wavelength)"
   ]
  },
  {
   "cell_type": "code",
   "execution_count": 26,
   "metadata": {},
   "outputs": [],
   "source": [
    "def find_equivalent_width(dered_wave, sm_flux, w1 = 5700., w2 = 6100., w3 = 6300., w4 = 6550.):\n",
    "    max_1 = np.where((dered_wave > w1) & (dered_wave < w2))\n",
    "    list(max_1)\n",
    "    elem_wavelist_1 = dered_wave[max_1]\n",
    "    elem_fluxlist_1 = sm_flux[max_1]\n",
    "    elem_flux_1 = max(elem_fluxlist_1)\n",
    "    max_1_wave = dered_wave[np.where(sm_flux == elem_flux_1)][0]\n",
    "    \n",
    "    max_2 = np.where((dered_wave > w3) & (dered_wave < w4))\n",
    "    list(max_2)\n",
    "    elem_wavelist_2 = dered_wave[max_2]\n",
    "    elem_fluxlist_2 = sm_flux[max_2]\n",
    "    elem_flux_2 = max(elem_fluxlist_2)\n",
    "    max_2_wave = dered_wave[np.where(sm_flux == elem_flux_2)][0]\n",
    "    \n",
    "    eqw_domain = np.where((dered_wave >= max_1_wave) & (dered_wave <= max_2_wave))\n",
    "    list(eqw_domain)\n",
    "    elem_fluxlist_eqw_domain = sm_flux[eqw_domain]\n",
    "    elem_wavelist_eqw_domain = dered_wave[eqw_domain]\n",
    "    \n",
    "    m = ((elem_flux_2 - elem_flux_1)/(max_2_wave - max_1_wave))\n",
    "    b = elem_flux_2 - m*(max_2_wave)\n",
    "    y = m*(elem_wavelist_eqw_domain) + b\n",
    "    \n",
    "    area_small = trapz(elem_fluxlist_eqw_domain, dx=1)\n",
    "    area_big = trapz(y, dx =1)\n",
    "    \n",
    "    equivalent_width = area_big - area_small\n",
    "    \n",
    "    return (equivalent_width)"
   ]
  },
  {
   "cell_type": "code",
   "execution_count": 27,
   "metadata": {},
   "outputs": [
    {
     "name": "stdout",
     "output_type": "stream",
     "text": [
      "2.30978589989e-14\n"
     ]
    }
   ],
   "source": [
    "eq_width = find_equivalent_width(dered_wave, sm_flux)\n",
    "print(eq_width)"
   ]
  },
  {
   "cell_type": "code",
   "execution_count": 29,
   "metadata": {},
   "outputs": [],
   "source": [
    "def find_velocity(min_wave, rest_wave = 6355.):\n",
    "    wavelength_prop = min_wave / rest_wave\n",
    "    ejecta_velocity = c * (wavelength_prop ** 2 - 1) / (wavelength_prop ** 2 + 1)\n",
    "    return ejecta_velocity"
   ]
  },
  {
   "cell_type": "code",
   "execution_count": 30,
   "metadata": {},
   "outputs": [],
   "source": [
    "def get_SN_name(file):\n",
    "    SN_name = file.split('-')[0]\n",
    "    return SN_name"
   ]
  },
  {
   "cell_type": "raw",
   "metadata": {},
   "source": [
    "\"\"\"def make_z_dict(file):\n",
    "    #reads in CfA4_info.txt\n",
    "    sn_datatext = open(file, \"r\")\n",
    "    sn_datainfo = sn_datatext.readlines()\n",
    "    z_dict = {}\n",
    "    start = False\n",
    "    for line in sn_datainfo:\n",
    "        if line.split()[0] == '2006ct':\n",
    "                start = True\n",
    "        if start:\n",
    "            line_elems = line.split()\n",
    "            name = line_elems[0]\n",
    "            z = line_elems[10]\n",
    "            z_dict[name] = float(z)\n",
    "    return z_dict\"\"\""
   ]
  },
  {
   "cell_type": "code",
   "execution_count": 32,
   "metadata": {},
   "outputs": [],
   "source": [
    "def make_z_dict(file):\n",
    "    #reads in CfA4_info.txt\n",
    "    sn_datatext = open(file, \"r\")\n",
    "    sn_datainfo = sn_datatext.readlines()\n",
    "    z_dict = {}\n",
    "    start_line = 60\n",
    "    for line in sn_datainfo[start_line:]:\n",
    "        line_elems = line.split()\n",
    "        temp = line_elems[0]\n",
    "        if temp[0] == \"2\":\n",
    "            name = \"sn\" + temp\n",
    "        else:\n",
    "            name = temp\n",
    "        z = line_elems[10]\n",
    "        z_dict[name] = float(z)\n",
    "    return z_dict"
   ]
  },
  {
   "cell_type": "code",
   "execution_count": 33,
   "metadata": {},
   "outputs": [],
   "source": [
    "def vel_error_dist(wavelength, flux, flux_error, n = 1000):\n",
    "    velocity_distribution = []\n",
    "    minwave = 6000\n",
    "    maxwave = 7000\n",
    "    wavelength_rest = 6355\n",
    "    for i in range(n):\n",
    "        vexp= np.random.normal(.0015,.00025) \n",
    "        smooth_flux = gsmooth(wavelength, flux, flux_error,vexp)\n",
    "        SiII_obs = find_wave_obs(wavelength, smooth_flux, minwave, maxwave)\n",
    "        v = find_velocity(SiII_obs, wavelength_rest)\n",
    "        #print (v, vexp, SiII_obs) this line can be uncommented to analyze increments of the loop individually\n",
    "        velocity_distribution.append(v)\n",
    "    vmode = mode(velocity_distribution)\n",
    "    vmean = np.mean(velocity_distribution)\n",
    "    vstd = np.std(velocity_distribution)\n",
    "    plt.hist(velocity_distribution)\n",
    "    return \"Ejecta velocity is\", vmode ,\"km/s\", \"mean velocity is\", vmean, \"km/s\", \"standard deviation is\", vstd, \"km/s\""
   ]
  },
  {
   "cell_type": "code",
   "execution_count": 34,
   "metadata": {},
   "outputs": [
    {
     "data": {
      "text/plain": [
       "'\\nfor i in range (1000):\\n        dist = vel_error_dist(dered_wavelength, flux, flux_error, n = 1000)\\n        mean = np.mean(dist)\\n        mean_dist.append(mean)\\n    mean_dist_order = sorted(mean_dist)\\n    lower95 = mean_dist_order[24]\\n    upper95 = mean_dist_order[974]\\n    return lower95, upper95\\n'"
      ]
     },
     "execution_count": 34,
     "metadata": {},
     "output_type": "execute_result"
    }
   ],
   "source": [
    "'''\n",
    "for i in range (1000):\n",
    "        dist = vel_error_dist(dered_wavelength, flux, flux_error, n = 1000)\n",
    "        mean = np.mean(dist)\n",
    "        mean_dist.append(mean)\n",
    "    mean_dist_order = sorted(mean_dist)\n",
    "    lower95 = mean_dist_order[24]\n",
    "    upper95 = mean_dist_order[974]\n",
    "    return lower95, upper95\n",
    "'''"
   ]
  },
  {
   "cell_type": "code",
   "execution_count": 1,
   "metadata": {},
   "outputs": [],
   "source": [
    "def dflux(wave):\n",
    "    unsmflux = flux[np.where(dered_wavelength == wave)]\n",
    "    smflux = sm_flux[np.where(dered_wavelength == wave)]\n",
    "    dflux = smflux - unsmflux\n",
    "    return dflux"
   ]
  },
  {
   "cell_type": "code",
   "execution_count": 35,
   "metadata": {},
   "outputs": [],
   "source": [
    "#Parse ned for associated galaxy\n",
    "#use astroquery to find z value\n",
    "def find_z(SN_name):\n",
    "    query_url = 'https://ned.ipac.caltech.edu/cgi-bin/objsearch?objname=sn2007fs&extend=no&hconst=73&omegam=0.27&omegav=0.73&corr_z=1&out_csys=Equatorial&out_equinox=J2000.0&obj_sort=RA+or+Longitude&of=pre_text&zv_breaker=30000.0&list_limit=5&img_stamp=YES'\n",
    "    sn_url = query_url.replace(\"sn2007fs\", SN_name)\n",
    "    return sn_url"
   ]
  },
  {
   "cell_type": "code",
   "execution_count": 36,
   "metadata": {},
   "outputs": [],
   "source": [
    "def plotspectra(wavelength, flux, dered_wave, sm_flux):\n",
    "    plt.figure(figsize=(20, 10))\n",
    "    plt.axvline(x=6355, linewidth=.5)\n",
    "    #resting wavelength of Si II\n",
    "    plt.plot(wavelength, flux, linewidth=1, color='red') #redshifted\n",
    "    plt.plot(dered_wave, sm_flux, linewidth=1, color='blue') #deredshifted\n",
    "    plt.xlabel('Wavelength (Angstroms)')\n",
    "    plt.ylabel('Relative Flux')"
   ]
  },
  {
   "cell_type": "code",
   "execution_count": 37,
   "metadata": {},
   "outputs": [
    {
     "data": {
      "text/plain": [
       "<matplotlib.lines.Line2D at 0x7f216c11d400>"
      ]
     },
     "execution_count": 37,
     "metadata": {},
     "output_type": "execute_result"
    },
    {
     "data": {
      "image/png": "[encoded data removed]",
      "text/plain": [
       "<matplotlib.figure.Figure at 0x7f2166d19f98>"
      ]
     },
     "metadata": {},
     "output_type": "display_data"
    }
   ],
   "source": [
    "#TEST YOUR CODE ON ONE OBJECT (plot original spectrum, deredshifted spectrum, and the smoothed deredshifted spectrum, print velocity)\n",
    "#YOUR CODE GOES HERE\n",
    "my_Supernova = (\"sn2007hj-20070903.28-fast.flm\")\n",
    "\n",
    "wavelength, flux, flux_error = np.loadtxt(my_Supernova, unpack = True)\n",
    "z = 0.003\n",
    "dered_wave = deredshift(wavelength, z)\n",
    "sm_flux = gsmooth(dered_wave, flux, flux_error)\n",
    "\n",
    "plotspectra(wavelength, flux, dered_wave, sm_flux)\n",
    "\n",
    "plt.axhline(y = 9e-16)\n"
   ]
  },
  {
   "cell_type": "code",
   "execution_count": 38,
   "metadata": {},
   "outputs": [
    {
     "name": "stdout",
     "output_type": "stream",
     "text": [
      "['sn2007hj-20070903.28-fast.flm', 'sn2007A-20070109.12-fast.flm', 'sn2007fb-20070707.44-fast.flm', 'sn2007fs-20070718.42-fast.flm', 'sn2007jg-20070920.46-fast.flm']\n",
      "6077.20076446\n",
      "-13391.1006786\n"
     ]
    }
   ],
   "source": [
    "#YOUR CODE GOES HERE\n",
    "z_dict = make_z_dict(\"CfA4_info.txt\")\n",
    "sndata = glob.glob(\"*.flm\")\n",
    "wavelength, flux, flux_error = np.loadtxt(sndata[0], unpack = True)\n",
    "z = 0.017192 #obtain from NED\n",
    "c = 299792 #speed of light in km/s\n",
    "print(sndata)\n",
    "dered_wave = deredshift(wavelength, z)\n",
    "sm_flux = gsmooth(dered_wave, flux, flux_error)\n",
    "min_wave = find_min_wave(dered_wave, sm_flux)\n",
    "print(min_wave)\n",
    "v = find_velocity(min_wave)\n",
    "print(v)"
   ]
  },
  {
   "cell_type": "code",
   "execution_count": 39,
   "metadata": {},
   "outputs": [
    {
     "data": {
      "text/plain": [
       "{'PTF10bjs': 0.03,\n",
       " 'sn2006ct': 0.0315,\n",
       " 'sn2006ou': 0.0135,\n",
       " 'sn2007A': 0.0177,\n",
       " 'sn2007aj': 0.011,\n",
       " 'sn2007bj': 0.0167,\n",
       " 'sn2007cb': 0.0366,\n",
       " 'sn2007cc': 0.0291,\n",
       " 'sn2007cf': 0.0329,\n",
       " 'sn2007cn': 0.0253,\n",
       " 'sn2007cs': 0.0176,\n",
       " 'sn2007ev': 0.0427,\n",
       " 'sn2007fb': 0.018,\n",
       " 'sn2007fq': 0.0425,\n",
       " 'sn2007fs': 0.0172,\n",
       " 'sn2007hg': 0.03,\n",
       " 'sn2007hj': 0.0141,\n",
       " 'sn2007hu': 0.0354,\n",
       " 'sn2007if': 0.0742,\n",
       " 'sn2007ir': 0.0352,\n",
       " 'sn2007is': 0.0297,\n",
       " 'sn2007jg': 0.0371,\n",
       " 'sn2007kd': 0.0242,\n",
       " 'sn2007kf': 0.046,\n",
       " 'sn2007kg': 0.007,\n",
       " 'sn2007kh': 0.05,\n",
       " 'sn2007kk': 0.041,\n",
       " 'sn2007le': 0.0067,\n",
       " 'sn2007nq': 0.045,\n",
       " 'sn2007ob': 0.0339,\n",
       " 'sn2007rx': 0.0301,\n",
       " 'sn2007ss': 0.0155,\n",
       " 'sn2007su': 0.0279,\n",
       " 'sn2007sw': 0.0252,\n",
       " 'sn2007ux': 0.0309,\n",
       " 'sn2008A': 0.0165,\n",
       " 'sn2008C': 0.0166,\n",
       " 'sn2008Q': 0.06,\n",
       " 'sn2008Y': 0.0697,\n",
       " 'sn2008Z': 0.021,\n",
       " 'sn2008ac': 0.0528,\n",
       " 'sn2008ad': 0.05,\n",
       " 'sn2008ae': 0.0301,\n",
       " 'sn2008ai': 0.0353,\n",
       " 'sn2008ar': 0.0261,\n",
       " 'sn2008at': 0.035,\n",
       " 'sn2008bi': 0.0134,\n",
       " 'sn2008bw': 0.0331,\n",
       " 'sn2008by': 0.045,\n",
       " 'sn2008bz': 0.0603,\n",
       " 'sn2008cd': 0.0074,\n",
       " 'sn2008cf': 0.046,\n",
       " 'sn2008cm': 0.0111,\n",
       " 'sn2008dr': 0.0414,\n",
       " 'sn2008ds': 0.021,\n",
       " 'sn2008dt': 0.0354,\n",
       " 'sn2008fr': 0.049,\n",
       " 'sn2008gb': 0.037,\n",
       " 'sn2008gl': 0.034,\n",
       " 'sn2008hj': 0.0379,\n",
       " 'sn2008hm': 0.0197,\n",
       " 'sn2008hs': 0.0173,\n",
       " 'sn2008hv': 0.0125,\n",
       " 'sn2009D': 0.025,\n",
       " 'sn2009Y': 0.0093,\n",
       " 'sn2009ad': 0.0284,\n",
       " 'sn2009al': 0.0221,\n",
       " 'sn2009an': 0.0092,\n",
       " 'sn2009bv': 0.0367,\n",
       " 'sn2009dc': 0.0214,\n",
       " 'sn2009do': 0.0397,\n",
       " 'sn2009ds': 0.0192,\n",
       " 'sn2009fv': 0.0293,\n",
       " 'sn2009gf': 0.0185,\n",
       " 'sn2009hp': 0.0211,\n",
       " 'sn2009ig': 0.0088,\n",
       " 'sn2009jr': 0.0165,\n",
       " 'sn2009kk': 0.0129,\n",
       " 'sn2009kq': 0.0116,\n",
       " 'sn2009le': 0.0178,\n",
       " 'sn2009lf': 0.045,\n",
       " 'sn2009li': 0.0404,\n",
       " 'sn2009na': 0.021,\n",
       " 'sn2009nq': 0.0158,\n",
       " 'sn2010A': 0.0207,\n",
       " 'sn2010H': 0.0152,\n",
       " 'sn2010Y': 0.0109,\n",
       " 'sn2010ag': 0.0338,\n",
       " 'sn2010ai': 0.0184,\n",
       " 'sn2010cr': 0.0216,\n",
       " 'sn2010dt': 0.0529,\n",
       " 'sn2010dw': 0.0381,\n",
       " 'snf20080522000': 0.0472,\n",
       " 'snf20080522011': 0.0397}"
      ]
     },
     "execution_count": 39,
     "metadata": {},
     "output_type": "execute_result"
    }
   ],
   "source": [
    "make_z_dict(\"CfA4_info.txt\")"
   ]
  },
  {
   "cell_type": "code",
   "execution_count": 2,
   "metadata": {},
   "outputs": [],
   "source": [
    "class Supernova:\n",
    "    def __init__(SN_name):\n",
    "        SN_name.name = SN_name\n",
    "        SN_name.files = glob.glob(SN_name)\n",
    "        SN_name.data = wavelength, flux, flux_error = np.loadtxt(SN_name.files[0], unpack = True)"
   ]
  },
  {
   "cell_type": "code",
   "execution_count": 41,
   "metadata": {},
   "outputs": [],
   "source": [
    "#FINAL SCRIPT STEPS\n",
    "#1) Get array of all flm file names\n",
    "#2) Make redshift dictionary\n",
    "#3) loop through files\n",
    "    #a) read in spectrum\n",
    "    #b) get SN name from file name\n",
    "    #c) get redshift from dictionary\n",
    "    #d) deredshift\n",
    "    #e) smooth\n",
    "    #f) find wavelength where Si line is minimum\n",
    "    #g) find and print velocity (and SN name)"
   ]
  },
  {
   "cell_type": "code",
   "execution_count": 42,
   "metadata": {},
   "outputs": [
    {
     "name": "stdout",
     "output_type": "stream",
     "text": [
      "-12480.1227903\n",
      "-10611.0637019\n",
      "-11752.8635862\n",
      "-10839.2331491\n",
      "-12759.6282317\n"
     ]
    }
   ],
   "source": [
    "sndata = glob.glob(\"*.flm\")\n",
    "\n",
    "z_dict = make_z_dict(\"CfA4_info.txt\")\n",
    "for i in range(len(sndata)):\n",
    "    name = get_SN_name(sndata[i])\n",
    "    wavelength, flux, flux_error = np.loadtxt(sndata[i], unpack = True)\n",
    "    dered_wave = deredshift(wavelength, z_dict[name])\n",
    "    sm_flux = gsmooth(dered_wave, flux, flux_error)\n",
    "    min_wave = find_min_wave(dered_wave, sm_flux)\n",
    "    v = find_velocity(min_wave)\n",
    "    print (v)"
   ]
  },
  {
   "cell_type": "code",
   "execution_count": 43,
   "metadata": {},
   "outputs": [
    {
     "data": {
      "text/plain": [
       "54363.00000532407"
      ]
     },
     "execution_count": 43,
     "metadata": {},
     "output_type": "execute_result"
    }
   ],
   "source": [
    "def find_t_obs(file): #gets observed date and time from file name and converts it to a modified julian date\n",
    "    date = file.split('-')[1]\n",
    "    datetime = date[0:4] + \"-\" + date[4:6] + \"-\" + date[6:]\n",
    "    t = Time(datetime)\n",
    "    t.format = 'mjd'    \n",
    "    t_obs = t.value\n",
    "    return t_obs\n",
    "    \n",
    "#test it out\n",
    "find_t_obs(\"sn2007jg-20070920.46-fast.flm\")"
   ]
  },
  {
   "cell_type": "code",
   "execution_count": 44,
   "metadata": {},
   "outputs": [
    {
     "data": {
      "text/plain": [
       "1314.2416404628993"
      ]
     },
     "execution_count": 44,
     "metadata": {},
     "output_type": "execute_result"
    }
   ],
   "source": [
    "def measure_phase(file, t_max): #get t_max from Matt\n",
    "    t_obs = find_t_obs(file)\n",
    "    z = z_dict[get_SN_name(file)]\n",
    "    phase = (t_obs - t_max)/(1+z)\n",
    "    return phase\n",
    "\n",
    "#random test with random t_max, I don't know what t-max is yet\n",
    "measure_phase(\"sn2007jg-20070920.46-fast.flm\", 53000)"
   ]
  },
  {
   "cell_type": "code",
   "execution_count": 45,
   "metadata": {},
   "outputs": [],
   "source": [
    "def find_v_0 (phase, v_obs): #computes velocity at t_max\n",
    "    v = v_obs\n",
    "    t = phase\n",
    "    v_0 = (v + (0.285*t))/(1 - (0.0322*t))\n",
    "    return v_0"
   ]
  },
  {
   "cell_type": "code",
   "execution_count": null,
   "metadata": {},
   "outputs": [],
   "source": []
  },
  {
   "cell_type": "code",
   "execution_count": null,
   "metadata": {},
   "outputs": [],
   "source": []
  }
 ],
 "metadata": {
  "kernelspec": {
   "display_name": "Python 3",
   "language": "python",
   "name": "python3"
  },
  "language_info": {
   "codemirror_mode": {
    "name": "ipython",
    "version": 3
   },
   "file_extension": ".py",
   "mimetype": "text/x-python",
   "name": "python",
   "nbconvert_exporter": "python",
   "pygments_lexer": "ipython3",
   "version": "3.4.6"
  }
 },
 "nbformat": 4,
 "nbformat_minor": 2
}
