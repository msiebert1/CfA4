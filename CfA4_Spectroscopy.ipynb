{
 "cells": [
  {
   "cell_type": "code",
   "execution_count": 58,
   "metadata": {},
   "outputs": [
    {
     "ename": "ModuleNotFoundError",
     "evalue": "No module named 'astroquery'",
     "output_type": "error",
     "traceback": [
      "\u001b[1;31m---------------------------------------------------------------------------\u001b[0m",
      "\u001b[1;31mModuleNotFoundError\u001b[0m                       Traceback (most recent call last)",
      "\u001b[1;32m<ipython-input-58-f6739390b7b1>\u001b[0m in \u001b[0;36m<module>\u001b[1;34m()\u001b[0m\n\u001b[0;32m      8\u001b[0m \u001b[1;32mfrom\u001b[0m \u001b[0mastropy\u001b[0m\u001b[1;33m.\u001b[0m\u001b[0mtime\u001b[0m \u001b[1;32mimport\u001b[0m \u001b[0mTime\u001b[0m\u001b[1;33m\u001b[0m\u001b[0m\n\u001b[0;32m      9\u001b[0m \u001b[1;32mfrom\u001b[0m \u001b[0mbs4\u001b[0m \u001b[1;32mimport\u001b[0m \u001b[0mBeautifulSoup\u001b[0m\u001b[1;33m\u001b[0m\u001b[0m\n\u001b[1;32m---> 10\u001b[1;33m \u001b[1;32mfrom\u001b[0m \u001b[0mastroquery\u001b[0m\u001b[1;33m.\u001b[0m\u001b[0mned\u001b[0m \u001b[1;32mimport\u001b[0m \u001b[0mNed\u001b[0m\u001b[1;33m\u001b[0m\u001b[0m\n\u001b[0m\u001b[0;32m     11\u001b[0m \u001b[1;32mimport\u001b[0m \u001b[0murllib\u001b[0m\u001b[1;33m\u001b[0m\u001b[0m\n\u001b[0;32m     12\u001b[0m \u001b[1;32mimport\u001b[0m \u001b[0murllib\u001b[0m\u001b[1;33m.\u001b[0m\u001b[0mrequest\u001b[0m\u001b[1;33m\u001b[0m\u001b[0m\n",
      "\u001b[1;31mModuleNotFoundError\u001b[0m: No module named 'astroquery'"
     ]
    }
   ],
   "source": [
    "%matplotlib inline \n",
    "import matplotlib.pyplot as plt\n",
    "import numpy as np \n",
    "import glob as glob\n",
    "import random\n",
    "from statistics import mode\n",
    "from numpy import trapz\n",
    "from astropy.time import Time\n",
    "from bs4 import BeautifulSoup\n",
    "from astroquery.ned import Ned\n",
    "import urllib\n",
    "import urllib.request\n",
    "import urllib.response\n",
    "c = 299792 #speed of light in km/s"
   ]
  },
  {
   "cell_type": "code",
   "execution_count": 59,
   "metadata": {},
   "outputs": [],
   "source": [
    "def gsmooth(x_array, y_array, var_y, vexp = .001, nsig = 5.0):\n",
    "    #returns smoothed flux array\n",
    "    # if no variance array create a constant one\n",
    "    if len(var_y) == 0:\n",
    "        var_y = np.zeros(len(y_array))\n",
    "        \n",
    "    for i in range(len(var_y)):\n",
    "        if var_y[i] == 0:\n",
    "            var_y[i] = 1E-20\n",
    "            # var_y[i] = 1E-31\n",
    "    \n",
    "    # Output y-array\n",
    "    new_y = np.zeros(len(x_array), float)\n",
    "    \n",
    "    # Loop over y-array elements\n",
    "    for i in range(len(x_array)):\n",
    "        \n",
    "        # Construct a Gaussian of sigma = vexp*x_array[i]\n",
    "        gaussian = np.zeros(len(x_array), float)\n",
    "        sigma = vexp*x_array[i]\n",
    "        \n",
    "        # Restrict range to +/- nsig sigma\n",
    "        sigrange = np.nonzero(abs(x_array-x_array[i]) <= nsig*sigma)\n",
    "        gaussian[sigrange] = (1/(sigma*np.sqrt(2*np.pi)))*np.exp(-0.5*((x_array[sigrange]-x_array[i])/sigma)**2)\n",
    "        \n",
    "        # Multiply Gaussian by 1 / variance\n",
    "        W_lambda = gaussian / var_y\n",
    "        \n",
    "        # Perform a weighted sum to give smoothed y value at x_array[i]\n",
    "        W0 = np.sum(W_lambda)\n",
    "        W1 = np.sum(W_lambda*y_array)\n",
    "        new_y[i] = W1/W0\n",
    "\n",
    "    # Return smoothed y-array\n",
    "    return new_y"
   ]
  },
  {
   "cell_type": "code",
   "execution_count": 60,
   "metadata": {},
   "outputs": [],
   "source": [
    "def autosmooth(x_array, y_array, var_y):\n",
    "    new_y_init = gsmooth(x_array, y_array, var_y, .001)\n",
    "    SNR = np.mean(new_y_init / flux_error)\n",
    "    \n",
    "    if SNR < 5:\n",
    "        vexp_auto = .0025 #temp value, need to fine tune using SNR in excel spreadsheet\n",
    "    elif 5 <= SNR < 20:\n",
    "        vexp_auto = .002\n",
    "    elif 20 <= SNR < 40:\n",
    "        vexp_auto = .0015\n",
    "    elif 40 <= SNR < 60:\n",
    "        vexp_auto = .001\n",
    "    elif 60 <= SNR < 100:\n",
    "        vexp_auto = .00075\n",
    "    else:\n",
    "        vexp_auto = .0005\n",
    "    \n",
    "    new_y = gsmooth(x_array, y_array, var_y, vexp_auto)\n",
    "    return new_y"
   ]
  },
  {
   "cell_type": "code",
   "execution_count": 61,
   "metadata": {},
   "outputs": [],
   "source": [
    "def deredshift(wavelength, z):\n",
    "    dered_wave = wavelength / (1+z)\n",
    "    return dered_wave"
   ]
  },
  {
   "cell_type": "code",
   "execution_count": 62,
   "metadata": {},
   "outputs": [],
   "source": [
    "def find_min_wave(dered_wave, sm_flux, w1 = 5900., w2 = 6500.):\n",
    "    elem_range = np.where((dered_wave > w1) & (dered_wave < w2)) #set domain as within minwave and maxwave\n",
    "    list(elem_range)\n",
    "    elem_wavelist = dered_wave[elem_range] \n",
    "    elem_fluxlist = sm_flux[elem_range] #find corresponding flux vales for wavelengths within domain\n",
    "    elem_flux = min(elem_fluxlist) #find minimum value within these flux vales to locate \"dip\"\n",
    "    elem_wavelength = dered_wave[np.where(sm_flux == elem_flux)][0] #find the corresponding wavelength\n",
    "    return(elem_wavelength)"
   ]
  },
  {
   "cell_type": "code",
   "execution_count": 63,
   "metadata": {},
   "outputs": [],
   "source": [
    "def find_max_wave(dered_wave, sm_flux, w1, w2):\n",
    "    max_wave = np.where((dered_wave > w1) & (dered_wave < w2))\n",
    "    list(max_wave)\n",
    "    elem_wavelist = dered_wave[max_wave]\n",
    "    elem_fluxlist = sm_flux[max_wave]\n",
    "    elem_flux = max(elem_fluxlist)\n",
    "    max_wave = dered_wave[np.where(sm_flux == elem_flux)][0]\n",
    "    return(max_wave)"
   ]
  },
  {
   "cell_type": "code",
   "execution_count": 64,
   "metadata": {},
   "outputs": [],
   "source": [
    "def find_equivalent_width(dered_wave, flux, max_1_wave, max_2_wave):\n",
    "    \n",
    "    eqw_domain = np.where((dered_wave >= max_1_wave) & (dered_wave <= max_2_wave))\n",
    "    list(eqw_domain)\n",
    "    elem_fluxlist_eqw_domain = flux[eqw_domain]\n",
    "    elem_wavelist_eqw_domain = dered_wave[eqw_domain]\n",
    "    line_elem = np.polyfit([max_1_wave, max_2_wave], [sm_flux[np.where(dered_wave == max_1_wave)], sm_flux[np.where(dered_wave == max_2_wave)]],1)\n",
    "    line = line_elem[0]*elem_wavelist_eqw_domain + line_elem[1]\n",
    "    norm = elem_fluxlist_eqw_domain/line\n",
    "    equivalent_width = trapz(norm*(-1),x=elem_wavelist_eqw_domain)*(-1)\n",
    "    return (equivalent_width)"
   ]
  },
  {
   "cell_type": "code",
   "execution_count": 118,
   "metadata": {},
   "outputs": [],
   "source": [
    "def find_velocity(min_wave, rest_wave = 6355):\n",
    "    c = 299792 #speed of light in km/s\n",
    "    wavelength_prop = min_wave / rest_wave\n",
    "    ejecta_velocity = c * (wavelength_prop ** 2 - 1) / (wavelength_prop ** 2 + 1)\n",
    "    return ejecta_velocity"
   ]
  },
  {
   "cell_type": "code",
   "execution_count": 87,
   "metadata": {},
   "outputs": [],
   "source": [
    "def get_SN_name(file):\n",
    "    SN_name = file.split('-')[0]\n",
    "    return SN_name"
   ]
  },
  {
   "cell_type": "code",
   "execution_count": 88,
   "metadata": {},
   "outputs": [],
   "source": [
    "def make_z_dict(file):\n",
    "    #reads in CfA4_info.txt\n",
    "    sn_datatext = open(file, \"r\")\n",
    "    sn_datainfo = sn_datatext.readlines()\n",
    "    z_dict = {}\n",
    "    start_line = 60\n",
    "    for line in sn_datainfo[start_line:]:\n",
    "        line_elems = line.split()\n",
    "        temp = line_elems[0]\n",
    "        if temp[0] == \"2\":\n",
    "            name = \"sn\" + temp\n",
    "        else:\n",
    "            name = temp\n",
    "        z = line_elems[10]\n",
    "        z_dict[name] = float(z)\n",
    "    return z_dict"
   ]
  },
  {
   "cell_type": "code",
   "execution_count": 89,
   "metadata": {},
   "outputs": [],
   "source": [
    "def vel_error_dist(wavelength, flux, flux_error, n = 1000):\n",
    "    velocity_distribution = []\n",
    "    minwave = 6000\n",
    "    maxwave = 7000\n",
    "    wavelength_rest = 6355\n",
    "    for i in range(n):\n",
    "        vexp= np.random.normal(.0015,.00025) \n",
    "        smooth_flux = autosmooth(wavelength, flux, flux_error,vexp)\n",
    "        SiII_obs = find_wave_obs(wavelength, smooth_flux, minwave, maxwave)\n",
    "        v = find_velocity(SiII_obs, wavelength_rest)\n",
    "        #print (v, vexp, SiII_obs) this line can be uncommented to analyze increments of the loop individually\n",
    "        velocity_distribution.append(v)\n",
    "    vmode = mode(velocity_distribution)\n",
    "    vmean = np.mean(velocity_distribution)\n",
    "    vstd = np.std(velocity_distribution)\n",
    "    lower95bound = sorted(velocity_distribution)[24]\n",
    "    upper95bound = sorted(velocity_distribution)[974]\n",
    "    plt.hist(velocity_distribution)\n",
    "    return \"Ejecta velocity is\", vmode ,\"km/s\", \"mean velocity is\", vmean, \"km/s\", \"standard deviation is\", vstd, \"km/s.\", \"The 95th percentile confidence interval is between\", lower95, \"and\", upper95"
   ]
  },
  {
   "cell_type": "code",
   "execution_count": 90,
   "metadata": {},
   "outputs": [],
   "source": [
    "def dflux(wave):\n",
    "    unsmflux = flux[np.where(dered_wavelength == wave)]\n",
    "    smflux = sm_flux[np.where(dered_wavelength == wave)]\n",
    "    dflux = smflux - unsmflux\n",
    "    return dflux"
   ]
  },
  {
   "cell_type": "code",
   "execution_count": 91,
   "metadata": {},
   "outputs": [],
   "source": [
    "#Parse ned for associated galaxy\n",
    "#use astroquery to find z value\n",
    "def find_z(SN_name):\n",
    "    if SN_name == \"sn2007if\":\n",
    "        z = 0.0742\n",
    "    elif SN_name == \"sn2007kf\":\n",
    "        z = 0.0460\n",
    "    elif SN_name == \"sn2007kg\":\n",
    "        z = .0070\n",
    "    elif SN_name == \"sn2007kh\":\n",
    "        z = 0.0500\n",
    "    elif SN_name == \"sn2008cf\":\n",
    "        z = 0.0460\n",
    "    elif SN_name == \"sn2008hm\":\n",
    "        z = 0.0197\n",
    "    elif SN_name == \"sn2009lf\":\n",
    "        z = 0.0450\n",
    "    elif SN_name == \"snf20080522000\":\n",
    "        z = 0.0472\n",
    "    elif SN_name == \"snf20080522011\":\n",
    "        z = 0.0397\n",
    "    elif SN_name == \"PTF10bjs\":\n",
    "        z = 0.0300\n",
    "    \n",
    "    #add z_dict lookup\n",
    "    elif SN_name in z_dict:\n",
    "        z = z_dict[SN_name]\n",
    "    \n",
    "    else:\n",
    "        query_url = 'https://ned.ipac.caltech.edu/cgi-bin/objsearch?objname=sn2007fs&extend=no&hconst=73&omegam=0.27&omegav=0.73&corr_z=1&out_csys=Equatorial&out_equinox=J2000.0&obj_sort=RA+or+Longitude&of=pre_text&zv_breaker=30000.0&list_limit=5&img_stamp=YES'\n",
    "        sn_url = query_url.replace(\"sn2007fs\", SN_name)\n",
    "        response = urllib.request.urlopen(sn_url)\n",
    "        ned_html = response.read()\n",
    "        soup = BeautifulSoup(ned_html, 'html.parser')\n",
    "        ned_text = soup.get_text().split('\\n')\n",
    "        for i in range(len(ned_text)):\n",
    "            if 'CROSS-IDENTIFICATIONS' in ned_text[i]:\n",
    "                break\n",
    "        cross_id_text = ned_text[i:i+5]\n",
    "        for line in cross_id_text:\n",
    "            if ':' in line:\n",
    "                cut1 = line.split('SN')\n",
    "                for el in cut1:\n",
    "                    if ':' in el:\n",
    "                        galaxy = el.split(':')[0].strip()\n",
    "                        data = Ned.get_table(galaxy, table = 'redshifts')\n",
    "                        tablelength = len(data)\n",
    "                        z = data[0][4]\n",
    "    return z"
   ]
  },
  {
   "cell_type": "code",
   "execution_count": 92,
   "metadata": {},
   "outputs": [
    {
     "ename": "NameError",
     "evalue": "name 'urllib' is not defined",
     "output_type": "error",
     "traceback": [
      "\u001b[1;31m---------------------------------------------------------------------------\u001b[0m",
      "\u001b[1;31mNameError\u001b[0m                                 Traceback (most recent call last)",
      "\u001b[1;32m<ipython-input-92-61ab19aab284>\u001b[0m in \u001b[0;36m<module>\u001b[1;34m()\u001b[0m\n\u001b[0;32m      1\u001b[0m \u001b[0mname\u001b[0m \u001b[1;33m=\u001b[0m \u001b[0mget_SN_name\u001b[0m\u001b[1;33m(\u001b[0m\u001b[1;34m\"sn2002hu-20021113.25-fast.flm\"\u001b[0m\u001b[1;33m)\u001b[0m\u001b[1;33m\u001b[0m\u001b[0m\n\u001b[1;32m----> 2\u001b[1;33m \u001b[0mz\u001b[0m \u001b[1;33m=\u001b[0m \u001b[0mfind_z\u001b[0m\u001b[1;33m(\u001b[0m\u001b[0mname\u001b[0m\u001b[1;33m)\u001b[0m\u001b[1;33m\u001b[0m\u001b[0m\n\u001b[0m\u001b[0;32m      3\u001b[0m \u001b[0mprint\u001b[0m \u001b[1;33m(\u001b[0m\u001b[0mz\u001b[0m\u001b[1;33m)\u001b[0m\u001b[1;33m\u001b[0m\u001b[0m\n",
      "\u001b[1;32m<ipython-input-91-ef76f2a76121>\u001b[0m in \u001b[0;36mfind_z\u001b[1;34m(SN_name)\u001b[0m\n\u001b[0;32m     30\u001b[0m         \u001b[0mquery_url\u001b[0m \u001b[1;33m=\u001b[0m \u001b[1;34m'https://ned.ipac.caltech.edu/cgi-bin/objsearch?objname=sn2007fs&extend=no&hconst=73&omegam=0.27&omegav=0.73&corr_z=1&out_csys=Equatorial&out_equinox=J2000.0&obj_sort=RA+or+Longitude&of=pre_text&zv_breaker=30000.0&list_limit=5&img_stamp=YES'\u001b[0m\u001b[1;33m\u001b[0m\u001b[0m\n\u001b[0;32m     31\u001b[0m         \u001b[0msn_url\u001b[0m \u001b[1;33m=\u001b[0m \u001b[0mquery_url\u001b[0m\u001b[1;33m.\u001b[0m\u001b[0mreplace\u001b[0m\u001b[1;33m(\u001b[0m\u001b[1;34m\"sn2007fs\"\u001b[0m\u001b[1;33m,\u001b[0m \u001b[0mSN_name\u001b[0m\u001b[1;33m)\u001b[0m\u001b[1;33m\u001b[0m\u001b[0m\n\u001b[1;32m---> 32\u001b[1;33m         \u001b[0mresponse\u001b[0m \u001b[1;33m=\u001b[0m \u001b[0murllib\u001b[0m\u001b[1;33m.\u001b[0m\u001b[0mrequest\u001b[0m\u001b[1;33m.\u001b[0m\u001b[0murlopen\u001b[0m\u001b[1;33m(\u001b[0m\u001b[0msn_url\u001b[0m\u001b[1;33m)\u001b[0m\u001b[1;33m\u001b[0m\u001b[0m\n\u001b[0m\u001b[0;32m     33\u001b[0m         \u001b[0mned_html\u001b[0m \u001b[1;33m=\u001b[0m \u001b[0mresponse\u001b[0m\u001b[1;33m.\u001b[0m\u001b[0mread\u001b[0m\u001b[1;33m(\u001b[0m\u001b[1;33m)\u001b[0m\u001b[1;33m\u001b[0m\u001b[0m\n\u001b[0;32m     34\u001b[0m         \u001b[0msoup\u001b[0m \u001b[1;33m=\u001b[0m \u001b[0mBeautifulSoup\u001b[0m\u001b[1;33m(\u001b[0m\u001b[0mned_html\u001b[0m\u001b[1;33m,\u001b[0m \u001b[1;34m'html.parser'\u001b[0m\u001b[1;33m)\u001b[0m\u001b[1;33m\u001b[0m\u001b[0m\n",
      "\u001b[1;31mNameError\u001b[0m: name 'urllib' is not defined"
     ]
    }
   ],
   "source": [
    "name = get_SN_name(\"sn2002hu-20021113.25-fast.flm\")\n",
    "z = find_z(name)\n",
    "print (z)"
   ]
  },
  {
   "cell_type": "code",
   "execution_count": 93,
   "metadata": {},
   "outputs": [],
   "source": [
    "def find_galaxy(SN_name):\n",
    "    query_url = 'https://ned.ipac.caltech.edu/cgi-bin/objsearch?objname=sn2007fs&extend=no&hconst=73&omegam=0.27&omegav=0.73&corr_z=1&out_csys=Equatorial&out_equinox=J2000.0&obj_sort=RA+or+Longitude&of=pre_text&zv_breaker=30000.0&list_limit=5&img_stamp=YES'\n",
    "    sn_url = query_url.replace(\"sn2007fs\", SN_name)\n",
    "    response = urllib.request.urlopen(sn_url)\n",
    "    ned_html = response.read()\n",
    "    soup = BeautifulSoup(ned_html, 'html.parser')\n",
    "    ned_text = soup.get_text().split('\\n')\n",
    "    for i in range(len(ned_text)):\n",
    "        if 'CROSS-IDENTIFICATIONS' in ned_text[i]:\n",
    "            break\n",
    "    cross_id_text = ned_text[i:i+5]\n",
    "    for line in cross_id_text:\n",
    "        if ':' in line:\n",
    "            cut1 = line.split('SN')\n",
    "            for el in cut1:\n",
    "                if ':' in el:\n",
    "                    galaxy = el.split(':')[0].strip()\n",
    "    return galaxy"
   ]
  },
  {
   "cell_type": "code",
   "execution_count": 94,
   "metadata": {},
   "outputs": [],
   "source": [
    "def plotspectra(wavelength, flux, dered_wave, sm_flux):\n",
    "    plt.figure(figsize=(20, 10))\n",
    "    plt.axvline(x=6355, linewidth=.5)\n",
    "    #resting wavelength of Si II\n",
    "    plt.plot(wavelength, flux, linewidth=1, color='red') #redshifted\n",
    "    plt.plot(dered_wave, sm_flux, linewidth=1, color='blue') #deredshifted\n",
    "    plt.xlabel('Wavelength (Angstroms)')\n",
    "    plt.ylabel('Relative Flux')"
   ]
  },
  {
   "cell_type": "code",
   "execution_count": 119,
   "metadata": {},
   "outputs": [
    {
     "name": "stdout",
     "output_type": "stream",
     "text": [
      "5914.535055714427\n",
      "6343.60516714328\n"
     ]
    },
    {
     "data": {
      "text/plain": [
       "<matplotlib.lines.Line2D at 0x25346c90cf8>"
      ]
     },
     "execution_count": 119,
     "metadata": {},
     "output_type": "execute_result"
    },
    {
     "data": {
      "image/png": "[encoded data removed]",
      "text/plain": [
       "<matplotlib.figure.Figure at 0x25346c90908>"
      ]
     },
     "metadata": {},
     "output_type": "display_data"
    }
   ],
   "source": [
    "#TEST YOUR CODE ON ONE OBJECT (plot original spectrum, deredshifted spectrum, and the smoothed deredshifted spectrum, print velocity)\n",
    "#YOUR CODE GOES HERE\n",
    "file = (\"sn2007hj-20070903.28-fast.flm\")\n",
    "my_Supernova = (file)\n",
    "\n",
    "wavelength, flux, flux_error = np.loadtxt(my_Supernova, unpack = True)\n",
    "name = get_SN_name(file)\n",
    "z = find_z(name)\n",
    "dered_wave = deredshift(wavelength, z)\n",
    "sm_flux = autosmooth(dered_wave, flux, flux_error)\n",
    "\n",
    "max_1_wave = find_max_wave(dered_wave,sm_flux, 5700, 6100)\n",
    "print (max_1_wave)\n",
    "max_2_wave = find_max_wave(dered_wave,sm_flux,6300, 6550)\n",
    "print (max_2_wave)\n",
    "\n",
    "plotspectra(wavelength, flux, dered_wave, sm_flux)\n",
    "\n",
    "plt.axhline(y = 9e-16)\n"
   ]
  },
  {
   "cell_type": "code",
   "execution_count": 127,
   "metadata": {},
   "outputs": [
    {
     "name": "stdout",
     "output_type": "stream",
     "text": [
      "['sn1994D-19940321.35-fast.flm', 'sn1994T-19940612.19-fast.flm', 'sn1996X-19960417.33-fast.flm', 'sn1998ef-19981029.31-fast.flm', 'sn2001ex-20011018.51-fast.flm', 'sn2002hu-20021113.25-fast.flm', 'sn2003cg-20030331.21-fast.flm', 'sn2003it-20031022.26-fast.flm', 'sn2003kc-20031203.49-fast.flm', 'sn2004at-20040328.20-fast.flm', 'sn2004gs-20041215.48-fast.flm', 'sn2005A-20050107.25-fast.flm', 'sn2005eu-20051011.37-fast.flm', 'sn2006bt-20060502.33-fast.flm', 'sn2006oa-20061127.10-fast.flm', 'sn2007af-20070314.44-fast.flm', 'sn2007ba-20070409.43-fast.flm', 'sn2007bm-20070511.16-fast.flm', 'sn2007fs-20070718.42-fast.flm', 'sn2007hj-20070903.28-fast.flm', 'sn2007jg-20070920.46-fast.flm', 'sn2007kk-20071008.41-fast.flm', 'sn2007S-20070212.33-fast.flm']\n",
      "\n",
      "SN name is sn2003kc\n",
      "z value is 0.031\n",
      "min_wave is 6107.6624636275465\n",
      "ejecta velocity is -11894.8291607024\n"
     ]
    }
   ],
   "source": [
    "#YOUR CODE GOES HERE\n",
    "z_dict = make_z_dict(\"CfA4_info.txt\")\n",
    "sndata = glob.glob(\"*.flm\")\n",
    "\n",
    "print (sndata)\n",
    "print ()\n",
    "\n",
    "index = 8\n",
    "\n",
    "wavelength, flux, flux_error = np.loadtxt(sndata[index], unpack = True)\n",
    "\n",
    "\n",
    "name = get_SN_name(sndata[index])\n",
    "print (\"SN name is \" + name)\n",
    "#z = find_z(name)\n",
    "z = 0.031\n",
    "print (\"z value is \" + str(z))\n",
    "\n",
    "\n",
    "dered_wave = deredshift(wavelength, z)\n",
    "sm_flux = autosmooth(dered_wave, flux, flux_error)\n",
    "min_wave = find_min_wave(dered_wave, sm_flux)\n",
    "print (\"min_wave is \" + str(min_wave))\n",
    "v = find_velocity(min_wave)\n",
    "print(\"ejecta velocity is \" + str(v))"
   ]
  },
  {
   "cell_type": "markdown",
   "metadata": {},
   "source": [
    "make_z_dict(\"CfA4_info.txt\")"
   ]
  },
  {
   "cell_type": "code",
   "execution_count": null,
   "metadata": {},
   "outputs": [],
   "source": [
    "class supernova:\n",
    "    def __init__(self, name, spectra, z):#, spectra):\n",
    "        self.name = name\n",
    "        self.spectra = spectra\n",
    "        self.z = z\n",
    "        #self.galaxy = find_galaxy(self.name)\n"
   ]
  },
  {
   "cell_type": "code",
   "execution_count": null,
   "metadata": {},
   "outputs": [],
   "source": [
    "glob.glob(\"CfA4_info.txt\")[0]"
   ]
  },
  {
   "cell_type": "code",
   "execution_count": null,
   "metadata": {},
   "outputs": [],
   "source": [
    "#get list of all supernovae #does not include new files from cfa_test_spectra\n",
    "SN_list = []\n",
    "file = glob.glob(\"CfA4_info.txt\")[0]\n",
    "sn_datatext = open(file, \"r\")\n",
    "sn_datainfo = sn_datatext.readlines()\n",
    "start_line = 60\n",
    "for line in sn_datainfo[start_line:]:\n",
    "    line_elems = line.split()\n",
    "    temp = line_elems[0]\n",
    "    if temp[0] == \"2\":\n",
    "        name = \"sn\" + temp\n",
    "    else:\n",
    "        name = temp\n",
    "    SN_list.append(name)\n",
    "    \n",
    "#create array of all objects with fields of supernova class populated\n",
    "SN_list = []\n",
    "spectra_list = []\n",
    "z_list = []\n",
    "\n",
    "for SN in SN_list:\n",
    "    associated_spectra = glob.glob(SN + \"*\")\n",
    "    associated_z = find_z(SN)\n",
    "    \n",
    "    spectra_list.append(associated_spectra)\n",
    "    z_list.append(associated_z)\n",
    "    #object = supernova(SN, associated_spectra, associated_z)\n",
    "    #class_data.append((SN, associated_spectra, associated_z))\n",
    "    #print(associated_spectra) #need data for spectra in CfA4_info.txt\n",
    "    #print(associated_z)\n",
    "    \n",
    "for a in range(0, len(SN_list)):\n",
    "    object = supernova(SN_list[a], spectra_list[a], z_list[a])"
   ]
  },
  {
   "cell_type": "code",
   "execution_count": null,
   "metadata": {},
   "outputs": [],
   "source": [
    "class spectrum:\n",
    "    def __init__(self, filename):\n",
    "        self.filename = filename\n",
    "        self.wavelength, self.flux, self.flux_error = np.loadtxt(self.filename, unpack = True)\n",
    "        \n",
    "    def cderedshift(self):\n",
    "        z = find_z(self.name) #change to self.z?\n",
    "        dered_wave = deredshift(self.wavelength, z)\n",
    "        return dered_wave\n",
    "        \n",
    "    def cfind_min_wave(self):\n",
    "        z = find_z(self.name)\n",
    "        dered_wave = deredshift(self.wavelength, z)\n",
    "        sm_flux = autosmooth(dered_wave, self.flux, self.flux_error) #automated smoothing has not been implemented yet\n",
    "        min_wave = find_min_wave(dered_wave, sm_flux)\n",
    "        return min_wave\n",
    "    \n",
    "    def cfind_velocity(self):\n",
    "        z = find_z(self.name)\n",
    "        dered_wave = deredshift(self.wavelength, z)\n",
    "        sm_flux = autosmooth(dered_wave, self.flux, self.flux_error) #automated smoothing has not been implemented yet\n",
    "        min_wave = find_min_wave(dered_wave, sm_flux)\n",
    "        ejecta_velocity = find_velocity(min_wave)\n",
    "        return ejecta_velocity\n",
    "    \n",
    "    def cfind_eq_width(self):\n",
    "        z = find_z(self.name)\n",
    "        dered_wave = deredshift(self.wavelength, z)\n",
    "        sm_flux = autosmooth(dered_wave, self.flux, self.flux_error) #automated smoothing has not been implemented yet\n",
    "        min_wave = find_min_wave(dered_wave, sm_flux)\n",
    "        max_wave_1 = find_max_wave(dered_wave,sm_flux, min_wave - 300, min_wave - 100)\n",
    "        max_wave_2 = find_max_wave(dered_wave,sm_flux, min_wave +100, min_wave +300)\n",
    "        find_eq_width (dered_wave, flux, max_1_wave, max_2_wave)\n",
    "        return eq_width"
   ]
  },
  {
   "cell_type": "code",
   "execution_count": 76,
   "metadata": {},
   "outputs": [],
   "source": [
    "spectra = glob.glob(\"*.flm\")\n",
    "for sn_spectrum in spectra:\n",
    "    a = spectrum(sn_spectrum)"
   ]
  },
  {
   "cell_type": "code",
   "execution_count": 77,
   "metadata": {},
   "outputs": [
    {
     "data": {
      "text/plain": [
       "\"class spectrum:\\n    def __init__(self, filename):\\n        self.filename = filename\\n        self.data = glob.glob(self.filename)\\n        wavelength, flux, flux_error = np.loadtxt(self.data[0], unpack = True)\\n        \\n    def csndata(self):\\n        sndata = glob.glob(self.filename)\\n        wavelength, flux, flux_error = np.loadtxt(sndata[0], unpack = True)\\n        plt.figure(figsize=(10, 4))\\n        plt.plot(wavelength,flux, linewidth=.5, color='blue')\\n        plt.axvline(x=6355, linewidth=.5)\\n        #resting wavelength of Si II\\n        plt.xlabel('Wavelength (Angstroms)')\\n        plt.ylabel('Relative Flux')\\n        return wavelength, flux, flux_error\\n    \\n    def cderedshift(self):\\n        #z = get_z(name) must be implemented later\\n        sndata = glob.glob(self.filename)\\n        wavelength, flux, flux_error = np.loadtxt(sndata[0], unpack = True)\\n        dered_wave = deredshift(wavelength, z)\\n        return dered_wave\\n    \\n    def cfind_min_wave(self):\\n        #z = get_z(name) must be implemented later\\n        z = .017193 #test\\n        sndata = glob.glob(self.filename)\\n        wavelength, flux, flux_error = np.loadtxt(sndata[0], unpack = True)\\n        dered_wave = deredshift(wavelength, z)\\n        sm_flux = gsmooth(dered_wave, flux, flux_error) #automated smoothing has not been implemented yet\\n        min_wave = find_min_wave(dered_wave, sm_flux)\\n        return min_wave\\n    \\n    def cfind_velocity(self):\\n        z = .017193 #test\\n        sndata = glob.glob(self.filename)\\n        wavelength, flux, flux_error = np.loadtxt(sndata[0], unpack = True)\\n        dered_wave = deredshift(wavelength, z)\\n        sm_flux = gsmooth(dered_wave, flux, flux_error) #automated smoothing has not been implemented yet\\n        min_wave = find_min_wave(dered_wave, sm_flux)\\n        ejecta_velocity = find_velocity(min_wave)\\n        return ejecta_velocity\\n\""
      ]
     },
     "execution_count": 77,
     "metadata": {},
     "output_type": "execute_result"
    }
   ],
   "source": [
    "#ERROR for some reason glob is reading in 'filename' as a file object or a variable and not a filename :/\n",
    "\"\"\"class spectrum:\n",
    "    def __init__(self, filename):\n",
    "        self.filename = filename\n",
    "        self.data = glob.glob(self.filename)\n",
    "        wavelength, flux, flux_error = np.loadtxt(self.data[0], unpack = True)\n",
    "        \n",
    "    def csndata(self):\n",
    "        sndata = glob.glob(self.filename)\n",
    "        wavelength, flux, flux_error = np.loadtxt(sndata[0], unpack = True)\n",
    "        plt.figure(figsize=(10, 4))\n",
    "        plt.plot(wavelength,flux, linewidth=.5, color='blue')\n",
    "        plt.axvline(x=6355, linewidth=.5)\n",
    "        #resting wavelength of Si II\n",
    "        plt.xlabel('Wavelength (Angstroms)')\n",
    "        plt.ylabel('Relative Flux')\n",
    "        return wavelength, flux, flux_error\n",
    "    \n",
    "    def cderedshift(self):\n",
    "        #z = get_z(name) must be implemented later\n",
    "        sndata = glob.glob(self.filename)\n",
    "        wavelength, flux, flux_error = np.loadtxt(sndata[0], unpack = True)\n",
    "        dered_wave = deredshift(wavelength, z)\n",
    "        return dered_wave\n",
    "    \n",
    "    def cfind_min_wave(self):\n",
    "        #z = get_z(name) must be implemented later\n",
    "        z = .017193 #test\n",
    "        sndata = glob.glob(self.filename)\n",
    "        wavelength, flux, flux_error = np.loadtxt(sndata[0], unpack = True)\n",
    "        dered_wave = deredshift(wavelength, z)\n",
    "        sm_flux = gsmooth(dered_wave, flux, flux_error) #automated smoothing has not been implemented yet\n",
    "        min_wave = find_min_wave(dered_wave, sm_flux)\n",
    "        return min_wave\n",
    "    \n",
    "    def cfind_velocity(self):\n",
    "        z = .017193 #test\n",
    "        sndata = glob.glob(self.filename)\n",
    "        wavelength, flux, flux_error = np.loadtxt(sndata[0], unpack = True)\n",
    "        dered_wave = deredshift(wavelength, z)\n",
    "        sm_flux = gsmooth(dered_wave, flux, flux_error) #automated smoothing has not been implemented yet\n",
    "        min_wave = find_min_wave(dered_wave, sm_flux)\n",
    "        ejecta_velocity = find_velocity(min_wave)\n",
    "        return ejecta_velocity\n",
    "\"\"\""
   ]
  },
  {
   "cell_type": "code",
   "execution_count": 78,
   "metadata": {},
   "outputs": [],
   "source": [
    "#FINAL SCRIPT STEPS\n",
    "#1) Get array of all flm file names\n",
    "#2) Make redshift dictionary\n",
    "#3) loop through files\n",
    "    #a) read in spectrum\n",
    "    #b) get SN name from file name\n",
    "    #c) get redshift from dictionary\n",
    "    #d) deredshift\n",
    "    #e) smooth\n",
    "    #f) find wavelength where Si line is minimum\n",
    "    #g) find and print velocity (and SN name)"
   ]
  },
  {
   "cell_type": "code",
   "execution_count": 79,
   "metadata": {},
   "outputs": [
    {
     "ename": "NameError",
     "evalue": "name 'urllib' is not defined",
     "output_type": "error",
     "traceback": [
      "\u001b[1;31m---------------------------------------------------------------------------\u001b[0m",
      "\u001b[1;31mNameError\u001b[0m                                 Traceback (most recent call last)",
      "\u001b[1;32m<ipython-input-79-70f9060d5aaf>\u001b[0m in \u001b[0;36m<module>\u001b[1;34m()\u001b[0m\n\u001b[0;32m      5\u001b[0m     \u001b[0mname\u001b[0m \u001b[1;33m=\u001b[0m \u001b[0mget_SN_name\u001b[0m\u001b[1;33m(\u001b[0m\u001b[0msndata\u001b[0m\u001b[1;33m[\u001b[0m\u001b[0mi\u001b[0m\u001b[1;33m]\u001b[0m\u001b[1;33m)\u001b[0m\u001b[1;33m\u001b[0m\u001b[0m\n\u001b[0;32m      6\u001b[0m     \u001b[0mwavelength\u001b[0m\u001b[1;33m,\u001b[0m \u001b[0mflux\u001b[0m\u001b[1;33m,\u001b[0m \u001b[0mflux_error\u001b[0m \u001b[1;33m=\u001b[0m \u001b[0mnp\u001b[0m\u001b[1;33m.\u001b[0m\u001b[0mloadtxt\u001b[0m\u001b[1;33m(\u001b[0m\u001b[0msndata\u001b[0m\u001b[1;33m[\u001b[0m\u001b[0mi\u001b[0m\u001b[1;33m]\u001b[0m\u001b[1;33m,\u001b[0m \u001b[0munpack\u001b[0m \u001b[1;33m=\u001b[0m \u001b[1;32mTrue\u001b[0m\u001b[1;33m)\u001b[0m\u001b[1;33m\u001b[0m\u001b[0m\n\u001b[1;32m----> 7\u001b[1;33m     \u001b[0mdered_wave\u001b[0m \u001b[1;33m=\u001b[0m \u001b[0mderedshift\u001b[0m\u001b[1;33m(\u001b[0m\u001b[0mwavelength\u001b[0m\u001b[1;33m,\u001b[0m \u001b[0mfind_z\u001b[0m\u001b[1;33m(\u001b[0m\u001b[0mname\u001b[0m\u001b[1;33m)\u001b[0m\u001b[1;33m)\u001b[0m\u001b[1;33m\u001b[0m\u001b[0m\n\u001b[0m\u001b[0;32m      8\u001b[0m     \u001b[0msm_flux\u001b[0m \u001b[1;33m=\u001b[0m \u001b[0mautosmooth\u001b[0m\u001b[1;33m(\u001b[0m\u001b[0mdered_wave\u001b[0m\u001b[1;33m,\u001b[0m \u001b[0mflux\u001b[0m\u001b[1;33m,\u001b[0m \u001b[0mflux_error\u001b[0m\u001b[1;33m)\u001b[0m\u001b[1;33m\u001b[0m\u001b[0m\n\u001b[0;32m      9\u001b[0m     \u001b[0mmin_wave\u001b[0m \u001b[1;33m=\u001b[0m \u001b[0mfind_min_wave\u001b[0m\u001b[1;33m(\u001b[0m\u001b[0mdered_wave\u001b[0m\u001b[1;33m,\u001b[0m \u001b[0msm_flux\u001b[0m\u001b[1;33m)\u001b[0m\u001b[1;33m\u001b[0m\u001b[0m\n",
      "\u001b[1;32m<ipython-input-70-ef76f2a76121>\u001b[0m in \u001b[0;36mfind_z\u001b[1;34m(SN_name)\u001b[0m\n\u001b[0;32m     30\u001b[0m         \u001b[0mquery_url\u001b[0m \u001b[1;33m=\u001b[0m \u001b[1;34m'https://ned.ipac.caltech.edu/cgi-bin/objsearch?objname=sn2007fs&extend=no&hconst=73&omegam=0.27&omegav=0.73&corr_z=1&out_csys=Equatorial&out_equinox=J2000.0&obj_sort=RA+or+Longitude&of=pre_text&zv_breaker=30000.0&list_limit=5&img_stamp=YES'\u001b[0m\u001b[1;33m\u001b[0m\u001b[0m\n\u001b[0;32m     31\u001b[0m         \u001b[0msn_url\u001b[0m \u001b[1;33m=\u001b[0m \u001b[0mquery_url\u001b[0m\u001b[1;33m.\u001b[0m\u001b[0mreplace\u001b[0m\u001b[1;33m(\u001b[0m\u001b[1;34m\"sn2007fs\"\u001b[0m\u001b[1;33m,\u001b[0m \u001b[0mSN_name\u001b[0m\u001b[1;33m)\u001b[0m\u001b[1;33m\u001b[0m\u001b[0m\n\u001b[1;32m---> 32\u001b[1;33m         \u001b[0mresponse\u001b[0m \u001b[1;33m=\u001b[0m \u001b[0murllib\u001b[0m\u001b[1;33m.\u001b[0m\u001b[0mrequest\u001b[0m\u001b[1;33m.\u001b[0m\u001b[0murlopen\u001b[0m\u001b[1;33m(\u001b[0m\u001b[0msn_url\u001b[0m\u001b[1;33m)\u001b[0m\u001b[1;33m\u001b[0m\u001b[0m\n\u001b[0m\u001b[0;32m     33\u001b[0m         \u001b[0mned_html\u001b[0m \u001b[1;33m=\u001b[0m \u001b[0mresponse\u001b[0m\u001b[1;33m.\u001b[0m\u001b[0mread\u001b[0m\u001b[1;33m(\u001b[0m\u001b[1;33m)\u001b[0m\u001b[1;33m\u001b[0m\u001b[0m\n\u001b[0;32m     34\u001b[0m         \u001b[0msoup\u001b[0m \u001b[1;33m=\u001b[0m \u001b[0mBeautifulSoup\u001b[0m\u001b[1;33m(\u001b[0m\u001b[0mned_html\u001b[0m\u001b[1;33m,\u001b[0m \u001b[1;34m'html.parser'\u001b[0m\u001b[1;33m)\u001b[0m\u001b[1;33m\u001b[0m\u001b[0m\n",
      "\u001b[1;31mNameError\u001b[0m: name 'urllib' is not defined"
     ]
    }
   ],
   "source": [
    "sndata = glob.glob(\"*.flm\")\n",
    "\n",
    "z_dict = make_z_dict(\"CfA4_info.txt\") #does not include files from cfa_test_spectra\n",
    "for i in range(len(sndata)):\n",
    "    name = get_SN_name(sndata[i])\n",
    "    wavelength, flux, flux_error = np.loadtxt(sndata[i], unpack = True)\n",
    "    dered_wave = deredshift(wavelength, find_z(name))\n",
    "    sm_flux = autosmooth(dered_wave, flux, flux_error)\n",
    "    min_wave = find_min_wave(dered_wave, sm_flux)\n",
    "    v = find_velocity(min_wave)\n",
    "    print (v)"
   ]
  },
  {
   "cell_type": "code",
   "execution_count": 80,
   "metadata": {},
   "outputs": [
    {
     "data": {
      "text/plain": [
       "54363.00000532407"
      ]
     },
     "execution_count": 80,
     "metadata": {},
     "output_type": "execute_result"
    }
   ],
   "source": [
    "def find_t_obs(file): #gets observed date and time from file name and converts it to a modified julian date\n",
    "    date = file.split('-')[1]\n",
    "    datetime = date[0:4] + \"-\" + date[4:6] + \"-\" + date[6:]\n",
    "    t = Time(datetime)\n",
    "    t.format = 'mjd'    \n",
    "    t_obs = t.value\n",
    "    return t_obs\n",
    "    \n",
    "#test it out\n",
    "find_t_obs(\"sn2007jg-20070920.46-fast.flm\")"
   ]
  },
  {
   "cell_type": "code",
   "execution_count": 81,
   "metadata": {},
   "outputs": [
    {
     "data": {
      "text/plain": [
       "1314.2416404628993"
      ]
     },
     "execution_count": 81,
     "metadata": {},
     "output_type": "execute_result"
    }
   ],
   "source": [
    "def measure_phase(file, t_max, z_dict): #get t_max from Matt\n",
    "    t_obs = find_t_obs(file)\n",
    "    z = z_dict[get_SN_name(file)]\n",
    "    phase = (t_obs - t_max)/(1+z)\n",
    "    return phase\n",
    "\n",
    "#random test with random t_max, I don't know what t-max is yet\n",
    "measure_phase(\"sn2007jg-20070920.46-fast.flm\", 53000, z_dict)"
   ]
  },
  {
   "cell_type": "code",
   "execution_count": 82,
   "metadata": {},
   "outputs": [],
   "source": [
    "def find_v_0 (phase, v_obs, sigma_vobs): #computes velocity at t_max\n",
    "    v = v_obs\n",
    "    t = phase\n",
    "    v_0 = (v + (0.285*t))/(1 - (0.0322*t))\n",
    "    sigma_v_0 = ((sigma_v_obs/(1-0.0322*t))^2 + 0.22^2)^(1/2) #get sigma_vobs from the kyle's function that determines the error of a velocity measurement\n",
    "    return v_0, sigma_v_0"
   ]
  },
  {
   "cell_type": "code",
   "execution_count": null,
   "metadata": {},
   "outputs": [],
   "source": []
  },
  {
   "cell_type": "code",
   "execution_count": null,
   "metadata": {},
   "outputs": [],
   "source": []
  }
 ],
 "metadata": {
  "kernelspec": {
   "display_name": "Python 3",
   "language": "python",
   "name": "python3"
  }
 },
 "nbformat": 4,
 "nbformat_minor": 2
}
