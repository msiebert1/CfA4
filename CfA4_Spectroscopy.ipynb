{
 "cells": [
  {
   "cell_type": "code",
   "execution_count": 159,
   "metadata": {},
   "outputs": [],
   "source": [
    "%matplotlib inline \n",
    "import matplotlib.pyplot as plt\n",
    "import numpy as np \n",
    "import glob\n",
    "import re"
   ]
  },
  {
   "cell_type": "code",
   "execution_count": 160,
   "metadata": {},
   "outputs": [],
   "source": [
    "def gsmooth(x_array, y_array, var_y, vexp = .001, nsig = 5.0):\n",
    "    #returns smoothed flux array\n",
    "    # if no variance array create a constant one\n",
    "    if len(var_y) == 0:\n",
    "        var_y = np.zeros(len(y_array))\n",
    "        \n",
    "    for i in range(len(var_y)):\n",
    "        if var_y[i] == 0:\n",
    "            var_y[i] = 1E-20\n",
    "            # var_y[i] = 1E-31\n",
    "    \n",
    "    # Output y-array\n",
    "    new_y = np.zeros(len(x_array), float)\n",
    "    \n",
    "    # Loop over y-array elements\n",
    "    for i in range(len(x_array)):\n",
    "        \n",
    "        # Construct a Gaussian of sigma = vexp*x_array[i]\n",
    "        gaussian = np.zeros(len(x_array), float)\n",
    "        sigma = vexp*x_array[i]\n",
    "        \n",
    "        # Restrict range to +/- nsig sigma\n",
    "        sigrange = np.nonzero(abs(x_array-x_array[i]) <= nsig*sigma)\n",
    "        gaussian[sigrange] = (1/(sigma*np.sqrt(2*np.pi)))*np.exp(-0.5*((x_array[sigrange]-x_array[i])/sigma)**2)\n",
    "        \n",
    "        # Multiply Gaussian by 1 / variance\n",
    "        W_lambda = gaussian / var_y\n",
    "        \n",
    "        # Perform a weighted sum to give smoothed y value at x_array[i]\n",
    "        W0 = np.sum(W_lambda)\n",
    "        W1 = np.sum(W_lambda*y_array)\n",
    "        new_y[i] = W1/W0\n",
    "\n",
    "    # Return smoothed y-array\n",
    "    return new_y"
   ]
  },
  {
   "cell_type": "code",
   "execution_count": 161,
   "metadata": {},
   "outputs": [],
   "source": [
    "def deredshift(wavelength, z):\n",
    "    dered_wave = wavelength / (1+z)\n",
    "    return dered_wave\n",
    "dered_wave = deredshift(wavelength, z)"
   ]
  },
  {
   "cell_type": "code",
   "execution_count": 162,
   "metadata": {},
   "outputs": [],
   "source": [
    "def find_min_wave(dered_wave, sm_flux, w1 = 5900., w2 = 6500.):\n",
    "    elem_range = np.where((dered_wave > w1) & (dered_wave < w2)) #set domain as within minwave and maxwave\n",
    "    list(elem_range)\n",
    "    elem_wavelist = dered_wave[elem_range] \n",
    "    elem_fluxlist = sm_flux[elem_range] #find corresponding flux vales for wavelengths within domain\n",
    "    elem_flux = min(elem_fluxlist) #find minimum value within these flux vales to locate \"dip\"\n",
    "    elem_wavelength = dered_wave[np.where(sm_flux == elem_flux)][0] #find the corresponding wavelength\n",
    "    return(elem_wavelength)"
   ]
  },
  {
   "cell_type": "code",
   "execution_count": 163,
   "metadata": {},
   "outputs": [],
   "source": [
    "def find_velocity(min_wave, rest_wave = 6355.):\n",
    "    wavelength_prop = min_wave / rest_wave\n",
    "    ejecta_velocity = c * (wavelength_prop ** 2 - 1) / (wavelength_prop ** 2 + 1)\n",
    "    return ejecta_velocity"
   ]
  },
  {
   "cell_type": "code",
   "execution_count": 164,
   "metadata": {},
   "outputs": [],
   "source": [
    "def get_SN_name(file):\n",
    "    #create a list out of the first 8 filename characters (sn0000__)\n",
    "    sn_char = list(file)\n",
    "    sn_namelist = [sn_char[0], sn_char[1],sn_char[2],sn_char[3],sn_char[4],sn_char[5],sn_char[6],sn_char[7],sn_char[8]]\n",
    "    #in cases where SN name containes one letter, delete the \"d\" or \"-\" that will be included due to going too far in filename\n",
    "    if sn_namelist[7] == '-':\n",
    "        sn_namelist.remove(sn_namelist[8])\n",
    "        sn_namelist.remove(sn_namelist[7])\n",
    "    elif sn_namelist[8] == '-':\n",
    "        sn_namelist.remove(sn_namelist[8])\n",
    "    elif sn_namelist[8] == 'a':\n",
    "        sn_namelist.remove(sn_namelist[8])\n",
    "        sn_namelist.remove(sn_namelist[7])\n",
    "    elif sn_namelist[8] == 'd':\n",
    "        sn_namelist.remove(sn_namelist[8])\n",
    "    \n",
    "    #join list back into string that is the lowercase supernova name    \n",
    "    sn_name = ''.join(sn_namelist)\n",
    "    return sn_name\n",
    "    print(sn_name)"
   ]
  },
  {
   "cell_type": "code",
   "execution_count": null,
   "metadata": {},
   "outputs": [],
   "source": []
  },
  {
   "cell_type": "code",
   "execution_count": 165,
   "metadata": {},
   "outputs": [],
   "source": [
    "def make_z_dict(file):\n",
    "    #reads in CfA4_info.txt\n",
    "    sn_datatext = open(file, \"r\")\n",
    "    sn_datainfo = sn_datatext.readlines()\n",
    "    start = False\n",
    "    for line in sn_datainfo:\n",
    "        if line.split()[0] == '2006ct':\n",
    "                start = True\n",
    "        if start:\n",
    "            line_elems = line.split()\n",
    "            name = line_elems[0]\n",
    "            z = line_elems[10]\n",
    "            z_dict[name] = float(z)\n",
    "    return z_dict"
   ]
  },
  {
   "cell_type": "code",
   "execution_count": 166,
   "metadata": {},
   "outputs": [],
   "source": [
    "#TEST YOUR CODE ON ONE OBJECT (plot original spectrum, deredshifted spectrum, and the smoothed deredshifted spectrum, print velocity)\n",
    "#YOUR CODE GOES HERE"
   ]
  },
  {
   "cell_type": "code",
   "execution_count": 167,
   "metadata": {},
   "outputs": [],
   "source": [
    "#FINAL SCRIPT STEPS\n",
    "#1) Get array of all flm file names\n",
    "#2) Make redshift dictionary\n",
    "#3) loop through files\n",
    "    #a) read in spectrum\n",
    "    #b) get SN name from file name\n",
    "    #c) get redshift from dictionary\n",
    "    #d) deredshift\n",
    "    #e) smooth\n",
    "    #f) find wavelength where Si line is minimum\n",
    "    #g) find and print velocity (and SN name)"
   ]
  },
  {
   "cell_type": "code",
   "execution_count": 168,
   "metadata": {},
   "outputs": [
    {
     "name": "stdout",
     "output_type": "stream",
     "text": [
      "['sn2007fsdata.flm', 'sn2007hjdata.flm', 'sn2007fbdata.flm', 'sn2007Adata.flm', 'sn2007jgdata.flm']\n",
      "6129.28532666\n",
      "-10836.8784392\n"
     ]
    }
   ],
   "source": [
    "#YOUR CODE GOES HERE\n",
    "make_z_dict(\"CfA4_info.txt\")\n",
    "sndata = glob.glob(\"*.flm\")\n",
    "wavelength, flux, flux_error = np.loadtxt(sndata[0], unpack = True)\n",
    "z = 0.017192 #obtain from NED\n",
    "c = 299792 #speed of light in km/s\n",
    "print(sndata)\n",
    "dered_wave = deredshift(wavelength, z)\n",
    "sm_flux = gsmooth(dered_wave, flux, flux_error)\n",
    "min_wave = find_min_wave(dered_wave, sm_flux)\n",
    "print(min_wave)\n",
    "v = find_velocity(min_wave)\n",
    "print(v)"
   ]
  },
  {
   "cell_type": "code",
   "execution_count": 169,
   "metadata": {},
   "outputs": [
    {
     "data": {
      "text/plain": [
       "{'2006ct': 0.0315,\n",
       " '2006ou': 0.0135,\n",
       " '2007A': 0.0177,\n",
       " '2007aj': 0.011,\n",
       " '2007bj': 0.0167,\n",
       " '2007cb': 0.0366,\n",
       " '2007cc': 0.0291,\n",
       " '2007cf': 0.0329,\n",
       " '2007cn': 0.0253,\n",
       " '2007cs': 0.0176,\n",
       " '2007ev': 0.0427,\n",
       " '2007fb': 0.018,\n",
       " '2007fq': 0.0425,\n",
       " '2007fs': 0.0172,\n",
       " '2007hg': 0.03,\n",
       " '2007hj': 0.0141,\n",
       " '2007hu': 0.0354,\n",
       " '2007if': 0.0742,\n",
       " '2007ir': 0.0352,\n",
       " '2007is': 0.0297,\n",
       " '2007jg': 0.0371,\n",
       " '2007kd': 0.0242,\n",
       " '2007kf': 0.046,\n",
       " '2007kg': 0.007,\n",
       " '2007kh': 0.05,\n",
       " '2007kk': 0.041,\n",
       " '2007le': 0.0067,\n",
       " '2007nq': 0.045,\n",
       " '2007ob': 0.0339,\n",
       " '2007rx': 0.0301,\n",
       " '2007ss': 0.0155,\n",
       " '2007su': 0.0279,\n",
       " '2007sw': 0.0252,\n",
       " '2007ux': 0.0309,\n",
       " '2008A': 0.0165,\n",
       " '2008C': 0.0166,\n",
       " '2008Q': 0.06,\n",
       " '2008Y': 0.0697,\n",
       " '2008Z': 0.021,\n",
       " '2008ac': 0.0528,\n",
       " '2008ad': 0.05,\n",
       " '2008ae': 0.0301,\n",
       " '2008ai': 0.0353,\n",
       " '2008ar': 0.0261,\n",
       " '2008at': 0.035,\n",
       " '2008bi': 0.0134,\n",
       " '2008bw': 0.0331,\n",
       " '2008by': 0.045,\n",
       " '2008bz': 0.0603,\n",
       " '2008cd': 0.0074,\n",
       " '2008cf': 0.046,\n",
       " '2008cm': 0.0111,\n",
       " '2008dr': 0.0414,\n",
       " '2008ds': 0.021,\n",
       " '2008dt': 0.0354,\n",
       " '2008fr': 0.049,\n",
       " '2008gb': 0.037,\n",
       " '2008gl': 0.034,\n",
       " '2008hj': 0.0379,\n",
       " '2008hm': 0.0197,\n",
       " '2008hs': 0.0173,\n",
       " '2008hv': 0.0125,\n",
       " '2009D': 0.025,\n",
       " '2009Y': 0.0093,\n",
       " '2009ad': 0.0284,\n",
       " '2009al': 0.0221,\n",
       " '2009an': 0.0092,\n",
       " '2009bv': 0.0367,\n",
       " '2009dc': 0.0214,\n",
       " '2009do': 0.0397,\n",
       " '2009ds': 0.0192,\n",
       " '2009fv': 0.0293,\n",
       " '2009gf': 0.0185,\n",
       " '2009hp': 0.0211,\n",
       " '2009ig': 0.0088,\n",
       " '2009jr': 0.0165,\n",
       " '2009kk': 0.0129,\n",
       " '2009kq': 0.0116,\n",
       " '2009le': 0.0178,\n",
       " '2009lf': 0.045,\n",
       " '2009li': 0.0404,\n",
       " '2009na': 0.021,\n",
       " '2009nq': 0.0158,\n",
       " '2010A': 0.0207,\n",
       " '2010H': 0.0152,\n",
       " '2010Y': 0.0109,\n",
       " '2010ag': 0.0338,\n",
       " '2010ai': 0.0184,\n",
       " '2010cr': 0.0216,\n",
       " '2010dt': 0.0529,\n",
       " '2010dw': 0.0381,\n",
       " 'PTF10bjs': 0.03,\n",
       " 'snf20080522000': 0.0472,\n",
       " 'snf20080522011': 0.0397}"
      ]
     },
     "execution_count": 169,
     "metadata": {},
     "output_type": "execute_result"
    }
   ],
   "source": [
    "make_z_dict(\"CfA4_info.txt\")"
   ]
  }
 ],
 "metadata": {
  "kernelspec": {
   "display_name": "Python 3",
   "language": "python",
   "name": "python3"
  },
  "language_info": {
   "codemirror_mode": {
    "name": "ipython",
    "version": 3
   },
   "file_extension": ".py",
   "mimetype": "text/x-python",
   "name": "python",
   "nbconvert_exporter": "python",
   "pygments_lexer": "ipython3",
   "version": "3.4.6"
  }
 },
 "nbformat": 4,
 "nbformat_minor": 2
}
