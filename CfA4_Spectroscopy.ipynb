{
 "cells": [
  {
   "cell_type": "code",
   "execution_count": 44,
   "metadata": {},
   "outputs": [],
   "source": [
    "%matplotlib inline \n",
    "import matplotlib.pyplot as plt\n",
    "import numpy as np \n",
    "import glob as glob\n",
    "import random\n",
    "from statistics import mode\n",
    "from numpy import trapz\n",
    "from astropy.time import Time\n",
    "c = 299792 #speed of light in km/s"
   ]
  },
  {
   "cell_type": "code",
   "execution_count": 8,
   "metadata": {},
   "outputs": [],
   "source": [
    "def gsmooth(x_array, y_array, var_y, vexp = .001, nsig = 5.0):\n",
    "    #returns smoothed flux array\n",
    "    # if no variance array create a constant one\n",
    "    if len(var_y) == 0:\n",
    "        var_y = np.zeros(len(y_array))\n",
    "        \n",
    "    for i in range(len(var_y)):\n",
    "        if var_y[i] == 0:\n",
    "            var_y[i] = 1E-20\n",
    "            # var_y[i] = 1E-31\n",
    "    \n",
    "    # Output y-array\n",
    "    new_y = np.zeros(len(x_array), float)\n",
    "    \n",
    "    # Loop over y-array elements\n",
    "    for i in range(len(x_array)):\n",
    "        \n",
    "        # Construct a Gaussian of sigma = vexp*x_array[i]\n",
    "        gaussian = np.zeros(len(x_array), float)\n",
    "        sigma = vexp*x_array[i]\n",
    "        \n",
    "        # Restrict range to +/- nsig sigma\n",
    "        sigrange = np.nonzero(abs(x_array-x_array[i]) <= nsig*sigma)\n",
    "        gaussian[sigrange] = (1/(sigma*np.sqrt(2*np.pi)))*np.exp(-0.5*((x_array[sigrange]-x_array[i])/sigma)**2)\n",
    "        \n",
    "        # Multiply Gaussian by 1 / variance\n",
    "        W_lambda = gaussian / var_y\n",
    "        \n",
    "        # Perform a weighted sum to give smoothed y value at x_array[i]\n",
    "        W0 = np.sum(W_lambda)\n",
    "        W1 = np.sum(W_lambda*y_array)\n",
    "        new_y[i] = W1/W0\n",
    "\n",
    "    # Return smoothed y-array\n",
    "    return new_y"
   ]
  },
  {
   "cell_type": "code",
   "execution_count": 9,
   "metadata": {},
   "outputs": [],
   "source": [
    "def deredshift(wavelength, z):\n",
    "    dered_wave = wavelength / (1+z)\n",
    "    return dered_wave"
   ]
  },
  {
   "cell_type": "code",
   "execution_count": 10,
   "metadata": {},
   "outputs": [],
   "source": [
    "def find_min_wave(dered_wave, sm_flux, w1 = 5900., w2 = 6500.):\n",
    "    elem_range = np.where((dered_wave > w1) & (dered_wave < w2)) #set domain as within minwave and maxwave\n",
    "    list(elem_range)\n",
    "    elem_wavelist = dered_wave[elem_range] \n",
    "    elem_fluxlist = sm_flux[elem_range] #find corresponding flux vales for wavelengths within domain\n",
    "    elem_flux = min(elem_fluxlist) #find minimum value within these flux vales to locate \"dip\"\n",
    "    elem_wavelength = dered_wave[np.where(sm_flux == elem_flux)][0] #find the corresponding wavelength\n",
    "    return(elem_wavelength)"
   ]
  },
  {
   "cell_type": "code",
   "execution_count": 11,
   "metadata": {},
   "outputs": [],
   "source": [
    "def find_equivalent_width(dered_wave, sm_flux, w1 = 5700., w2 = 6100., w3 = 6300., w4 = 6550.):\n",
    "    max_1 = np.where((dered_wave > w1) & (dered_wave < w2))\n",
    "    list(max_1)\n",
    "    elem_wavelist_1 = dered_wave[max_1]\n",
    "    elem_fluxlist_1 = sm_flux[max_1]\n",
    "    elem_flux_1 = max(elem_fluxlist_1)\n",
    "    max_1_wave = dered_wave[np.where(sm_flux == elem_flux_1)][0]\n",
    "    \n",
    "    max_2 = np.where((dered_wave > w3) & (dered_wave < w4))\n",
    "    list(max_2)\n",
    "    elem_wavelist_2 = dered_wave[max_2]\n",
    "    elem_fluxlist_2 = sm_flux[max_2]\n",
    "    elem_flux_2 = max(elem_fluxlist_2)\n",
    "    max_2_wave = dered_wave[np.where(sm_flux == elem_flux_2)][0]\n",
    "    \n",
    "    eqw_domain = np.where((dered_wave >= max_1_wave) & (dered_wave <= max_2_wave))\n",
    "    list(eqw_domain)\n",
    "    elem_fluxlist_eqw_domain = sm_flux[eqw_domain]\n",
    "    elem_wavelist_eqw_domain = dered_wave[eqw_domain]\n",
    "    \n",
    "    m = ((elem_flux_2 - elem_flux_1)/(max_2_wave - max_1_wave))\n",
    "    b = elem_flux_2 - m*(max_2_wave)\n",
    "    y = m*(elem_wavelist_eqw_domain) + b\n",
    "    \n",
    "    area_small = trapz(elem_fluxlist_eqw_domain, dx=1)\n",
    "    area_big = trapz(y, dx =1)\n",
    "    \n",
    "    equivalent_width = area_big - area_small\n",
    "    \n",
    "    return (equivalent_width)"
   ]
  },
  {
   "cell_type": "code",
   "execution_count": 12,
   "metadata": {},
   "outputs": [
    {
     "ename": "NameError",
     "evalue": "name 'dered_wave' is not defined",
     "output_type": "error",
     "traceback": [
      "\u001b[0;31m---------------------------------------------------------------------------\u001b[0m",
      "\u001b[0;31mNameError\u001b[0m                                 Traceback (most recent call last)",
      "\u001b[0;32m<ipython-input-12-2c2dbcbe2be4>\u001b[0m in \u001b[0;36m<module>\u001b[0;34m()\u001b[0m\n\u001b[0;32m----> 1\u001b[0;31m \u001b[0meq_width\u001b[0m \u001b[0;34m=\u001b[0m \u001b[0mfind_equivalent_width\u001b[0m\u001b[0;34m(\u001b[0m\u001b[0mdered_wave\u001b[0m\u001b[0;34m,\u001b[0m \u001b[0msm_flux\u001b[0m\u001b[0;34m)\u001b[0m\u001b[0;34m\u001b[0m\u001b[0m\n\u001b[0m\u001b[1;32m      2\u001b[0m \u001b[0mprint\u001b[0m\u001b[0;34m(\u001b[0m\u001b[0meq_width\u001b[0m\u001b[0;34m)\u001b[0m\u001b[0;34m\u001b[0m\u001b[0m\n",
      "\u001b[0;31mNameError\u001b[0m: name 'dered_wave' is not defined"
     ]
    }
   ],
   "source": [
    "eq_width = find_equivalent_width(dered_wave, sm_flux)\n",
    "print(eq_width)"
   ]
  },
  {
   "cell_type": "code",
   "execution_count": 18,
   "metadata": {},
   "outputs": [],
   "source": [
    "def find_velocity(min_wave, rest_wave = 6355.):\n",
    "    wavelength_prop = min_wave / rest_wave\n",
    "    ejecta_velocity = c * (wavelength_prop ** 2 - 1) / (wavelength_prop ** 2 + 1)\n",
    "    return ejecta_velocity"
   ]
  },
  {
   "cell_type": "code",
   "execution_count": null,
   "metadata": {},
   "outputs": [],
   "source": [
    "def get_SN_name(file):\n",
    "    SN_name = file.split('-')[0]\n",
    "    return SN_name"
   ]
  },
  {
   "cell_type": "code",
   "execution_count": null,
   "metadata": {},
   "outputs": [],
   "source": [
    "def make_z_dict(file):\n",
    "    #reads in CfA4_info.txt\n",
    "    sn_datatext = open(file, \"r\")\n",
    "    sn_datainfo = sn_datatext.readlines()\n",
    "    z_dict = {}\n",
    "    start_line = 60\n",
    "    for line in sn_datainfo[start_line:]:\n",
    "        line_elems = line.split()\n",
    "        temp = line_elems[0]\n",
    "        if temp[0] == \"2\":\n",
    "            name = \"sn\" + temp\n",
    "        else:\n",
    "            name = temp\n",
    "        z = line_elems[10]\n",
    "        z_dict[name] = float(z)\n",
    "    return z_dict"
   ]
  },
  {
   "cell_type": "code",
   "execution_count": null,
   "metadata": {},
   "outputs": [],
   "source": [
    "def vel_error_dist(wavelength, flux, flux_error, n = 1000):\n",
    "    velocity_distribution = []\n",
    "    minwave = 6000\n",
    "    maxwave = 7000\n",
    "    wavelength_rest = 6355\n",
    "    for i in range(n):\n",
    "        vexp= np.random.normal(.0015,.00025) \n",
    "        smooth_flux = gsmooth(wavelength, flux, flux_error,vexp)\n",
    "        SiII_obs = find_wave_obs(wavelength, smooth_flux, minwave, maxwave)\n",
    "        v = find_velocity(SiII_obs, wavelength_rest)\n",
    "        #print (v, vexp, SiII_obs) this line can be uncommented to analyze increments of the loop individually\n",
    "        velocity_distribution.append(v)\n",
    "    vmode = mode(velocity_distribution)\n",
    "    vmean = np.mean(velocity_distribution)\n",
    "    vstd = np.std(velocity_distribution)\n",
    "    lower95bound = sorted(velocity_distribution)[24]\n",
    "    upper95bound = sorted(velocity_distribution)[974]\n",
    "    plt.hist(velocity_distribution)\n",
    "    return \"Ejecta velocity is\", vmode ,\"km/s\", \"mean velocity is\", vmean, \"km/s\", \"standard deviation is\", vstd, \"km/s.\", \"The 95th percentile confidence interval is between\", lower95, \"and\", upper95"
   ]
  },
  {
   "cell_type": "code",
   "execution_count": null,
   "metadata": {},
   "outputs": [],
   "source": [
    "def dflux(wave):\n",
    "    unsmflux = flux[np.where(dered_wavelength == wave)]\n",
    "    smflux = sm_flux[np.where(dered_wavelength == wave)]\n",
    "    dflux = smflux - unsmflux\n",
    "    return dflux"
   ]
  },
  {
   "cell_type": "code",
   "execution_count": null,
   "metadata": {},
   "outputs": [],
   "source": [
    "#Parse ned for associated galaxy\n",
    "#use astroquery to find z value\n",
    "def find_z(SN_name):\n",
    "    query_url = 'https://ned.ipac.caltech.edu/cgi-bin/objsearch?objname=sn2007fs&extend=no&hconst=73&omegam=0.27&omegav=0.73&corr_z=1&out_csys=Equatorial&out_equinox=J2000.0&obj_sort=RA+or+Longitude&of=pre_text&zv_breaker=30000.0&list_limit=5&img_stamp=YES'\n",
    "    sn_url = query_url.replace(\"sn2007fs\", SN_name)\n",
    "    return sn_url"
   ]
  },
  {
   "cell_type": "code",
   "execution_count": 13,
   "metadata": {},
   "outputs": [],
   "source": [
    "def plotspectra(wavelength, flux, dered_wave, sm_flux):\n",
    "    plt.figure(figsize=(20, 10))\n",
    "    plt.axvline(x=6355, linewidth=.5)\n",
    "    #resting wavelength of Si II\n",
    "    plt.plot(wavelength, flux, linewidth=1, color='red') #redshifted\n",
    "    plt.plot(dered_wave, sm_flux, linewidth=1, color='blue') #deredshifted\n",
    "    plt.xlabel('Wavelength (Angstroms)')\n",
    "    plt.ylabel('Relative Flux')"
   ]
  },
  {
   "cell_type": "code",
   "execution_count": 14,
   "metadata": {},
   "outputs": [
    {
     "ename": "FileNotFoundError",
     "evalue": "[Errno 2] No such file or directory: 'sn2007hj-20070903.28-fast.flm'",
     "output_type": "error",
     "traceback": [
      "\u001b[0;31m---------------------------------------------------------------------------\u001b[0m",
      "\u001b[0;31mFileNotFoundError\u001b[0m                         Traceback (most recent call last)",
      "\u001b[0;32m<ipython-input-14-695ecd1bb0c2>\u001b[0m in \u001b[0;36m<module>\u001b[0;34m()\u001b[0m\n\u001b[1;32m      3\u001b[0m \u001b[0mmy_Supernova\u001b[0m \u001b[0;34m=\u001b[0m \u001b[0;34m(\u001b[0m\u001b[0;34m\"sn2007hj-20070903.28-fast.flm\"\u001b[0m\u001b[0;34m)\u001b[0m\u001b[0;34m\u001b[0m\u001b[0m\n\u001b[1;32m      4\u001b[0m \u001b[0;34m\u001b[0m\u001b[0m\n\u001b[0;32m----> 5\u001b[0;31m \u001b[0mwavelength\u001b[0m\u001b[0;34m,\u001b[0m \u001b[0mflux\u001b[0m\u001b[0;34m,\u001b[0m \u001b[0mflux_error\u001b[0m \u001b[0;34m=\u001b[0m \u001b[0mnp\u001b[0m\u001b[0;34m.\u001b[0m\u001b[0mloadtxt\u001b[0m\u001b[0;34m(\u001b[0m\u001b[0mmy_Supernova\u001b[0m\u001b[0;34m,\u001b[0m \u001b[0munpack\u001b[0m \u001b[0;34m=\u001b[0m \u001b[0;32mTrue\u001b[0m\u001b[0;34m)\u001b[0m\u001b[0;34m\u001b[0m\u001b[0m\n\u001b[0m\u001b[1;32m      6\u001b[0m \u001b[0mz\u001b[0m \u001b[0;34m=\u001b[0m \u001b[0;36m0.003\u001b[0m\u001b[0;34m\u001b[0m\u001b[0m\n\u001b[1;32m      7\u001b[0m \u001b[0mdered_wave\u001b[0m \u001b[0;34m=\u001b[0m \u001b[0mderedshift\u001b[0m\u001b[0;34m(\u001b[0m\u001b[0mwavelength\u001b[0m\u001b[0;34m,\u001b[0m \u001b[0mz\u001b[0m\u001b[0;34m)\u001b[0m\u001b[0;34m\u001b[0m\u001b[0m\n",
      "\u001b[0;32m/usr/local/lib/python3.4/site-packages/numpy/lib/npyio.py\u001b[0m in \u001b[0;36mloadtxt\u001b[0;34m(fname, dtype, comments, delimiter, converters, skiprows, usecols, unpack, ndmin)\u001b[0m\n\u001b[1;32m    896\u001b[0m                 \u001b[0mfh\u001b[0m \u001b[0;34m=\u001b[0m \u001b[0miter\u001b[0m\u001b[0;34m(\u001b[0m\u001b[0mopen\u001b[0m\u001b[0;34m(\u001b[0m\u001b[0mfname\u001b[0m\u001b[0;34m,\u001b[0m \u001b[0;34m'U'\u001b[0m\u001b[0;34m)\u001b[0m\u001b[0;34m)\u001b[0m\u001b[0;34m\u001b[0m\u001b[0m\n\u001b[1;32m    897\u001b[0m             \u001b[0;32melse\u001b[0m\u001b[0;34m:\u001b[0m\u001b[0;34m\u001b[0m\u001b[0m\n\u001b[0;32m--> 898\u001b[0;31m                 \u001b[0mfh\u001b[0m \u001b[0;34m=\u001b[0m \u001b[0miter\u001b[0m\u001b[0;34m(\u001b[0m\u001b[0mopen\u001b[0m\u001b[0;34m(\u001b[0m\u001b[0mfname\u001b[0m\u001b[0;34m)\u001b[0m\u001b[0;34m)\u001b[0m\u001b[0;34m\u001b[0m\u001b[0m\n\u001b[0m\u001b[1;32m    899\u001b[0m         \u001b[0;32melse\u001b[0m\u001b[0;34m:\u001b[0m\u001b[0;34m\u001b[0m\u001b[0m\n\u001b[1;32m    900\u001b[0m             \u001b[0mfh\u001b[0m \u001b[0;34m=\u001b[0m \u001b[0miter\u001b[0m\u001b[0;34m(\u001b[0m\u001b[0mfname\u001b[0m\u001b[0;34m)\u001b[0m\u001b[0;34m\u001b[0m\u001b[0m\n",
      "\u001b[0;31mFileNotFoundError\u001b[0m: [Errno 2] No such file or directory: 'sn2007hj-20070903.28-fast.flm'"
     ]
    }
   ],
   "source": [
    "#TEST YOUR CODE ON ONE OBJECT (plot original spectrum, deredshifted spectrum, and the smoothed deredshifted spectrum, print velocity)\n",
    "#YOUR CODE GOES HERE\n",
    "my_Supernova = (\"sn2007hj-20070903.28-fast.flm\")\n",
    "\n",
    "wavelength, flux, flux_error = np.loadtxt(my_Supernova, unpack = True)\n",
    "z = 0.003\n",
    "dered_wave = deredshift(wavelength, z)\n",
    "sm_flux = gsmooth(dered_wave, flux, flux_error)\n",
    "\n",
    "plotspectra(wavelength, flux, dered_wave, sm_flux)\n",
    "\n",
    "plt.axhline(y = 9e-16)\n"
   ]
  },
  {
   "cell_type": "code",
   "execution_count": 15,
   "metadata": {},
   "outputs": [
    {
     "ename": "NameError",
     "evalue": "name 'make_z_dict' is not defined",
     "output_type": "error",
     "traceback": [
      "\u001b[0;31m---------------------------------------------------------------------------\u001b[0m",
      "\u001b[0;31mNameError\u001b[0m                                 Traceback (most recent call last)",
      "\u001b[0;32m<ipython-input-15-1ea7da974bc1>\u001b[0m in \u001b[0;36m<module>\u001b[0;34m()\u001b[0m\n\u001b[1;32m      1\u001b[0m \u001b[0;31m#YOUR CODE GOES HERE\u001b[0m\u001b[0;34m\u001b[0m\u001b[0;34m\u001b[0m\u001b[0m\n\u001b[0;32m----> 2\u001b[0;31m \u001b[0mz_dict\u001b[0m \u001b[0;34m=\u001b[0m \u001b[0mmake_z_dict\u001b[0m\u001b[0;34m(\u001b[0m\u001b[0;34m\"CfA4_info.txt\"\u001b[0m\u001b[0;34m)\u001b[0m\u001b[0;34m\u001b[0m\u001b[0m\n\u001b[0m\u001b[1;32m      3\u001b[0m \u001b[0msndata\u001b[0m \u001b[0;34m=\u001b[0m \u001b[0mglob\u001b[0m\u001b[0;34m.\u001b[0m\u001b[0mglob\u001b[0m\u001b[0;34m(\u001b[0m\u001b[0;34m\"*.flm\"\u001b[0m\u001b[0;34m)\u001b[0m\u001b[0;34m\u001b[0m\u001b[0m\n\u001b[1;32m      4\u001b[0m \u001b[0mwavelength\u001b[0m\u001b[0;34m,\u001b[0m \u001b[0mflux\u001b[0m\u001b[0;34m,\u001b[0m \u001b[0mflux_error\u001b[0m \u001b[0;34m=\u001b[0m \u001b[0mnp\u001b[0m\u001b[0;34m.\u001b[0m\u001b[0mloadtxt\u001b[0m\u001b[0;34m(\u001b[0m\u001b[0msndata\u001b[0m\u001b[0;34m[\u001b[0m\u001b[0;36m0\u001b[0m\u001b[0;34m]\u001b[0m\u001b[0;34m,\u001b[0m \u001b[0munpack\u001b[0m \u001b[0;34m=\u001b[0m \u001b[0;32mTrue\u001b[0m\u001b[0;34m)\u001b[0m\u001b[0;34m\u001b[0m\u001b[0m\n\u001b[1;32m      5\u001b[0m \u001b[0mz\u001b[0m \u001b[0;34m=\u001b[0m \u001b[0;36m0.017192\u001b[0m \u001b[0;31m#obtain from NED\u001b[0m\u001b[0;34m\u001b[0m\u001b[0m\n",
      "\u001b[0;31mNameError\u001b[0m: name 'make_z_dict' is not defined"
     ]
    }
   ],
   "source": [
    "#YOUR CODE GOES HERE\n",
    "z_dict = make_z_dict(\"CfA4_info.txt\")\n",
    "sndata = glob.glob(\"*.flm\")\n",
    "wavelength, flux, flux_error = np.loadtxt(sndata[0], unpack = True)\n",
    "z = 0.017192 #obtain from NED\n",
    "#c = 299792 #speed of light in km/s\n",
    "print(sndata)\n",
    "dered_wave = deredshift(wavelength, z)\n",
    "sm_flux = gsmooth(dered_wave, flux, flux_error)\n",
    "min_wave = find_min_wave(dered_wave, sm_flux)\n",
    "print(min_wave)\n",
    "v = find_velocity(min_wave)\n",
    "print(v)"
   ]
  },
  {
   "cell_type": "code",
   "execution_count": 16,
   "metadata": {},
   "outputs": [
    {
     "ename": "NameError",
     "evalue": "name 'make_z_dict' is not defined",
     "output_type": "error",
     "traceback": [
      "\u001b[0;31m---------------------------------------------------------------------------\u001b[0m",
      "\u001b[0;31mNameError\u001b[0m                                 Traceback (most recent call last)",
      "\u001b[0;32m<ipython-input-16-d609947745d4>\u001b[0m in \u001b[0;36m<module>\u001b[0;34m()\u001b[0m\n\u001b[0;32m----> 1\u001b[0;31m \u001b[0mmake_z_dict\u001b[0m\u001b[0;34m(\u001b[0m\u001b[0;34m\"CfA4_info.txt\"\u001b[0m\u001b[0;34m)\u001b[0m\u001b[0;34m\u001b[0m\u001b[0m\n\u001b[0m",
      "\u001b[0;31mNameError\u001b[0m: name 'make_z_dict' is not defined"
     ]
    }
   ],
   "source": [
    "make_z_dict(\"CfA4_info.txt\")"
   ]
  },
  {
   "cell_type": "code",
   "execution_count": 34,
   "metadata": {},
   "outputs": [],
   "source": [
    "class SupernovaName:\n",
    "    def __init__(self, SN_name):\n",
    "        self.name = SN_name\n",
    "        self.files = glob.glob(self.name)\n",
    "        #self.z = code working externally from Hyperion"
   ]
  },
  {
   "cell_type": "code",
   "execution_count": 46,
   "metadata": {},
   "outputs": [
    {
     "name": "stdout",
     "output_type": "stream",
     "text": [
      "-10837.172779\n"
     ]
    }
   ],
   "source": [
    "#ERROR for some reason glob is reading in 'filename' as a file object or a variable and not a filename :/\n",
    "class spectrum:\n",
    "    def __init__(self, filename):\n",
    "        self.filename = filename\n",
    "        self.data = glob.glob(self.filename)\n",
    "        wavelength, flux, flux_error = np.loadtxt(self.data[0], unpack = True)\n",
    "        \n",
    "    def csndata(self):\n",
    "        sndata = glob.glob(self.filename)\n",
    "        wavelength, flux, flux_error = np.loadtxt(sndata[0], unpack = True)\n",
    "        plt.figure(figsize=(10, 4))\n",
    "        plt.plot(wavelength,flux, linewidth=.5, color='blue')\n",
    "        plt.axvline(x=6355, linewidth=.5)\n",
    "        #resting wavelength of Si II\n",
    "        plt.xlabel('Wavelength (Angstroms)')\n",
    "        plt.ylabel('Relative Flux')\n",
    "        return wavelength, flux, flux_error\n",
    "    \n",
    "    def cderedshift(self):\n",
    "        #z = get_z(name) must be implemented later\n",
    "        sndata = glob.glob(self.filename)\n",
    "        wavelength, flux, flux_error = np.loadtxt(sndata[0], unpack = True)\n",
    "        dered_wave = deredshift(wavelength, z)\n",
    "        return dered_wave\n",
    "    \n",
    "    def cfind_min_wave(self):\n",
    "        #z = get_z(name) must be implemented later\n",
    "        z = .017193 #test\n",
    "        sndata = glob.glob(self.filename)\n",
    "        wavelength, flux, flux_error = np.loadtxt(sndata[0], unpack = True)\n",
    "        dered_wave = deredshift(wavelength, z)\n",
    "        sm_flux = gsmooth(dered_wave, flux, flux_error) #automated smoothing has not been implemented yet\n",
    "        min_wave = find_min_wave(dered_wave, sm_flux)\n",
    "        return min_wave\n",
    "    \n",
    "    def cfind_velocity(self):\n",
    "        z = .017193 #test\n",
    "        sndata = glob.glob(self.filename)\n",
    "        wavelength, flux, flux_error = np.loadtxt(sndata[0], unpack = True)\n",
    "        dered_wave = deredshift(wavelength, z)\n",
    "        sm_flux = gsmooth(dered_wave, flux, flux_error) #automated smoothing has not been implemented yet\n",
    "        min_wave = find_min_wave(dered_wave, sm_flux)\n",
    "        ejecta_velocity = find_velocity(min_wave)\n",
    "        return ejecta_velocity\n",
    "    \n",
    "sn = spectrum('sn2007fsdata.flm')\n",
    "print (sn.cfind_velocity())"
   ]
  },
  {
   "cell_type": "code",
   "execution_count": 3,
   "metadata": {},
   "outputs": [],
   "source": [
    "#FINAL SCRIPT STEPS\n",
    "#1) Get array of all flm file names\n",
    "#2) Make redshift dictionary\n",
    "#3) loop through files\n",
    "    #a) read in spectrum\n",
    "    #b) get SN name from file name\n",
    "    #c) get redshift from dictionary\n",
    "    #d) deredshift\n",
    "    #e) smooth\n",
    "    #f) find wavelength where Si line is minimum\n",
    "    #g) find and print velocity (and SN name)"
   ]
  },
  {
   "cell_type": "code",
   "execution_count": 4,
   "metadata": {},
   "outputs": [
    {
     "ename": "NameError",
     "evalue": "name 'glob' is not defined",
     "output_type": "error",
     "traceback": [
      "\u001b[0;31m---------------------------------------------------------------------------\u001b[0m",
      "\u001b[0;31mNameError\u001b[0m                                 Traceback (most recent call last)",
      "\u001b[0;32m<ipython-input-4-2caa4c553b88>\u001b[0m in \u001b[0;36m<module>\u001b[0;34m()\u001b[0m\n\u001b[0;32m----> 1\u001b[0;31m \u001b[0msndata\u001b[0m \u001b[0;34m=\u001b[0m \u001b[0mglob\u001b[0m\u001b[0;34m.\u001b[0m\u001b[0mglob\u001b[0m\u001b[0;34m(\u001b[0m\u001b[0;34m\"*.flm\"\u001b[0m\u001b[0;34m)\u001b[0m\u001b[0;34m\u001b[0m\u001b[0m\n\u001b[0m\u001b[1;32m      2\u001b[0m \u001b[0;34m\u001b[0m\u001b[0m\n\u001b[1;32m      3\u001b[0m \u001b[0mz_dict\u001b[0m \u001b[0;34m=\u001b[0m \u001b[0mmake_z_dict\u001b[0m\u001b[0;34m(\u001b[0m\u001b[0;34m\"CfA4_info.txt\"\u001b[0m\u001b[0;34m)\u001b[0m\u001b[0;34m\u001b[0m\u001b[0m\n\u001b[1;32m      4\u001b[0m \u001b[0;32mfor\u001b[0m \u001b[0mi\u001b[0m \u001b[0;32min\u001b[0m \u001b[0mrange\u001b[0m\u001b[0;34m(\u001b[0m\u001b[0mlen\u001b[0m\u001b[0;34m(\u001b[0m\u001b[0msndata\u001b[0m\u001b[0;34m)\u001b[0m\u001b[0;34m)\u001b[0m\u001b[0;34m:\u001b[0m\u001b[0;34m\u001b[0m\u001b[0m\n\u001b[1;32m      5\u001b[0m     \u001b[0mname\u001b[0m \u001b[0;34m=\u001b[0m \u001b[0mget_SN_name\u001b[0m\u001b[0;34m(\u001b[0m\u001b[0msndata\u001b[0m\u001b[0;34m[\u001b[0m\u001b[0mi\u001b[0m\u001b[0;34m]\u001b[0m\u001b[0;34m)\u001b[0m\u001b[0;34m\u001b[0m\u001b[0m\n",
      "\u001b[0;31mNameError\u001b[0m: name 'glob' is not defined"
     ]
    }
   ],
   "source": [
    "sndata = glob.glob(\"*.flm\")\n",
    "\n",
    "z_dict = make_z_dict(\"CfA4_info.txt\")\n",
    "for i in range(len(sndata)):\n",
    "    name = get_SN_name(sndata[i])\n",
    "    wavelength, flux, flux_error = np.loadtxt(sndata[i], unpack = True)\n",
    "    dered_wave = deredshift(wavelength, z_dict[name])\n",
    "    sm_flux = gsmooth(dered_wave, flux, flux_error)\n",
    "    min_wave = find_min_wave(dered_wave, sm_flux)\n",
    "    v = find_velocity(min_wave)\n",
    "    print (v)"
   ]
  },
  {
   "cell_type": "code",
   "execution_count": 5,
   "metadata": {},
   "outputs": [
    {
     "ename": "NameError",
     "evalue": "name 'Time' is not defined",
     "output_type": "error",
     "traceback": [
      "\u001b[0;31m---------------------------------------------------------------------------\u001b[0m",
      "\u001b[0;31mNameError\u001b[0m                                 Traceback (most recent call last)",
      "\u001b[0;32m<ipython-input-5-5a66cbf69e94>\u001b[0m in \u001b[0;36m<module>\u001b[0;34m()\u001b[0m\n\u001b[1;32m      8\u001b[0m \u001b[0;34m\u001b[0m\u001b[0m\n\u001b[1;32m      9\u001b[0m \u001b[0;31m#test it out\u001b[0m\u001b[0;34m\u001b[0m\u001b[0;34m\u001b[0m\u001b[0m\n\u001b[0;32m---> 10\u001b[0;31m \u001b[0mfind_t_obs\u001b[0m\u001b[0;34m(\u001b[0m\u001b[0;34m\"sn2007jg-20070920.46-fast.flm\"\u001b[0m\u001b[0;34m)\u001b[0m\u001b[0;34m\u001b[0m\u001b[0m\n\u001b[0m",
      "\u001b[0;32m<ipython-input-5-5a66cbf69e94>\u001b[0m in \u001b[0;36mfind_t_obs\u001b[0;34m(file)\u001b[0m\n\u001b[1;32m      2\u001b[0m     \u001b[0mdate\u001b[0m \u001b[0;34m=\u001b[0m \u001b[0mfile\u001b[0m\u001b[0;34m.\u001b[0m\u001b[0msplit\u001b[0m\u001b[0;34m(\u001b[0m\u001b[0;34m'-'\u001b[0m\u001b[0;34m)\u001b[0m\u001b[0;34m[\u001b[0m\u001b[0;36m1\u001b[0m\u001b[0;34m]\u001b[0m\u001b[0;34m\u001b[0m\u001b[0m\n\u001b[1;32m      3\u001b[0m     \u001b[0mdatetime\u001b[0m \u001b[0;34m=\u001b[0m \u001b[0mdate\u001b[0m\u001b[0;34m[\u001b[0m\u001b[0;36m0\u001b[0m\u001b[0;34m:\u001b[0m\u001b[0;36m4\u001b[0m\u001b[0;34m]\u001b[0m \u001b[0;34m+\u001b[0m \u001b[0;34m\"-\"\u001b[0m \u001b[0;34m+\u001b[0m \u001b[0mdate\u001b[0m\u001b[0;34m[\u001b[0m\u001b[0;36m4\u001b[0m\u001b[0;34m:\u001b[0m\u001b[0;36m6\u001b[0m\u001b[0;34m]\u001b[0m \u001b[0;34m+\u001b[0m \u001b[0;34m\"-\"\u001b[0m \u001b[0;34m+\u001b[0m \u001b[0mdate\u001b[0m\u001b[0;34m[\u001b[0m\u001b[0;36m6\u001b[0m\u001b[0;34m:\u001b[0m\u001b[0;34m]\u001b[0m\u001b[0;34m\u001b[0m\u001b[0m\n\u001b[0;32m----> 4\u001b[0;31m     \u001b[0mt\u001b[0m \u001b[0;34m=\u001b[0m \u001b[0mTime\u001b[0m\u001b[0;34m(\u001b[0m\u001b[0mdatetime\u001b[0m\u001b[0;34m)\u001b[0m\u001b[0;34m\u001b[0m\u001b[0m\n\u001b[0m\u001b[1;32m      5\u001b[0m     \u001b[0mt\u001b[0m\u001b[0;34m.\u001b[0m\u001b[0mformat\u001b[0m \u001b[0;34m=\u001b[0m \u001b[0;34m'mjd'\u001b[0m\u001b[0;34m\u001b[0m\u001b[0m\n\u001b[1;32m      6\u001b[0m     \u001b[0mt_obs\u001b[0m \u001b[0;34m=\u001b[0m \u001b[0mt\u001b[0m\u001b[0;34m.\u001b[0m\u001b[0mvalue\u001b[0m\u001b[0;34m\u001b[0m\u001b[0m\n",
      "\u001b[0;31mNameError\u001b[0m: name 'Time' is not defined"
     ]
    }
   ],
   "source": [
    "def find_t_obs(file): #gets observed date and time from file name and converts it to a modified julian date\n",
    "    date = file.split('-')[1]\n",
    "    datetime = date[0:4] + \"-\" + date[4:6] + \"-\" + date[6:]\n",
    "    t = Time(datetime)\n",
    "    t.format = 'mjd'    \n",
    "    t_obs = t.value\n",
    "    return t_obs\n",
    "    \n",
    "#test it out\n",
    "find_t_obs(\"sn2007jg-20070920.46-fast.flm\")"
   ]
  },
  {
   "cell_type": "code",
   "execution_count": 6,
   "metadata": {},
   "outputs": [
    {
     "ename": "NameError",
     "evalue": "name 'z_dict' is not defined",
     "output_type": "error",
     "traceback": [
      "\u001b[0;31m---------------------------------------------------------------------------\u001b[0m",
      "\u001b[0;31mNameError\u001b[0m                                 Traceback (most recent call last)",
      "\u001b[0;32m<ipython-input-6-4748c2be23d5>\u001b[0m in \u001b[0;36m<module>\u001b[0;34m()\u001b[0m\n\u001b[1;32m      6\u001b[0m \u001b[0;34m\u001b[0m\u001b[0m\n\u001b[1;32m      7\u001b[0m \u001b[0;31m#random test with random t_max, I don't know what t-max is yet\u001b[0m\u001b[0;34m\u001b[0m\u001b[0;34m\u001b[0m\u001b[0m\n\u001b[0;32m----> 8\u001b[0;31m \u001b[0mmeasure_phase\u001b[0m\u001b[0;34m(\u001b[0m\u001b[0;34m\"sn2007jg-20070920.46-fast.flm\"\u001b[0m\u001b[0;34m,\u001b[0m \u001b[0;36m53000\u001b[0m\u001b[0;34m,\u001b[0m \u001b[0mz_dict\u001b[0m\u001b[0;34m)\u001b[0m\u001b[0;34m\u001b[0m\u001b[0m\n\u001b[0m",
      "\u001b[0;31mNameError\u001b[0m: name 'z_dict' is not defined"
     ]
    }
   ],
   "source": [
    "def measure_phase(file, t_max, z_dict): #get t_max from Matt\n",
    "    t_obs = find_t_obs(file)\n",
    "    z = z_dict[get_SN_name(file)]\n",
    "    phase = (t_obs - t_max)/(1+z)\n",
    "    return phase\n",
    "\n",
    "#random test with random t_max, I don't know what t-max is yet\n",
    "measure_phase(\"sn2007jg-20070920.46-fast.flm\", 53000, z_dict)"
   ]
  },
  {
   "cell_type": "code",
   "execution_count": 33,
   "metadata": {},
   "outputs": [],
   "source": [
    "def find_v_0 (phase, v_obs, sigma_vobs): #computes velocity at t_max\n",
    "    v = v_obs\n",
    "    t = phase\n",
    "    v_0 = (v + (0.285*t))/(1 - (0.0322*t))\n",
    "    sigma_v_0 = ((sigma_v_obs/(1-0.0322t))^2 + 0.22^2)^(1/2) #get sigma_vobs from the kyle's function that determines the error of a velocity measurement\n",
    "    return v_0, sigma_v_0"
   ]
  },
  {
   "cell_type": "code",
   "execution_count": null,
   "metadata": {},
   "outputs": [],
   "source": []
  },
  {
   "cell_type": "code",
   "execution_count": null,
   "metadata": {},
   "outputs": [],
   "source": []
  }
 ],
 "metadata": {
  "kernelspec": {
   "display_name": "Python 3",
   "language": "python",
   "name": "python3"
  },
  "language_info": {
   "codemirror_mode": {
    "name": "ipython",
    "version": 3
   },
   "file_extension": ".py",
   "mimetype": "text/x-python",
   "name": "python",
   "nbconvert_exporter": "python",
   "pygments_lexer": "ipython3",
   "version": "3.4.6"
  }
 },
 "nbformat": 4,
 "nbformat_minor": 2
}
