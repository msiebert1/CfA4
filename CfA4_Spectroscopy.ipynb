{
 "cells": [
  {
   "cell_type": "code",
   "execution_count": 1,
   "metadata": {},
   "outputs": [
    {
     "ename": "ImportError",
     "evalue": "No module named '_bz2'",
     "output_type": "error",
     "traceback": [
      "\u001b[0;31m---------------------------------------------------------------------------\u001b[0m",
      "\u001b[0;31mImportError\u001b[0m                               Traceback (most recent call last)",
      "\u001b[0;32m<ipython-input-1-f6739390b7b1>\u001b[0m in \u001b[0;36m<module>\u001b[0;34m()\u001b[0m\n\u001b[1;32m      8\u001b[0m \u001b[0;32mfrom\u001b[0m \u001b[0mastropy\u001b[0m\u001b[0;34m.\u001b[0m\u001b[0mtime\u001b[0m \u001b[0;32mimport\u001b[0m \u001b[0mTime\u001b[0m\u001b[0;34m\u001b[0m\u001b[0m\n\u001b[1;32m      9\u001b[0m \u001b[0;32mfrom\u001b[0m \u001b[0mbs4\u001b[0m \u001b[0;32mimport\u001b[0m \u001b[0mBeautifulSoup\u001b[0m\u001b[0;34m\u001b[0m\u001b[0m\n\u001b[0;32m---> 10\u001b[0;31m \u001b[0;32mfrom\u001b[0m \u001b[0mastroquery\u001b[0m\u001b[0;34m.\u001b[0m\u001b[0mned\u001b[0m \u001b[0;32mimport\u001b[0m \u001b[0mNed\u001b[0m\u001b[0;34m\u001b[0m\u001b[0m\n\u001b[0m\u001b[1;32m     11\u001b[0m \u001b[0;32mimport\u001b[0m \u001b[0murllib\u001b[0m\u001b[0;34m\u001b[0m\u001b[0m\n\u001b[1;32m     12\u001b[0m \u001b[0;32mimport\u001b[0m \u001b[0murllib\u001b[0m\u001b[0;34m.\u001b[0m\u001b[0mrequest\u001b[0m\u001b[0;34m\u001b[0m\u001b[0m\n",
      "\u001b[0;32m/usr/local/lib/python3.4/site-packages/astroquery/ned/__init__.py\u001b[0m in \u001b[0;36m<module>\u001b[0;34m()\u001b[0m\n\u001b[1;32m     82\u001b[0m \u001b[0mconf\u001b[0m \u001b[0;34m=\u001b[0m \u001b[0mConf\u001b[0m\u001b[0;34m(\u001b[0m\u001b[0;34m)\u001b[0m\u001b[0;34m\u001b[0m\u001b[0m\n\u001b[1;32m     83\u001b[0m \u001b[0;34m\u001b[0m\u001b[0m\n\u001b[0;32m---> 84\u001b[0;31m \u001b[0;32mfrom\u001b[0m \u001b[0;34m.\u001b[0m\u001b[0mcore\u001b[0m \u001b[0;32mimport\u001b[0m \u001b[0mNed\u001b[0m\u001b[0;34m,\u001b[0m \u001b[0mNedClass\u001b[0m\u001b[0;34m\u001b[0m\u001b[0m\n\u001b[0m\u001b[1;32m     85\u001b[0m \u001b[0;34m\u001b[0m\u001b[0m\n\u001b[1;32m     86\u001b[0m __all__ = ['Ned', 'NedClass',\n",
      "\u001b[0;32m/usr/local/lib/python3.4/site-packages/astroquery/ned/core.py\u001b[0m in \u001b[0;36m<module>\u001b[0;34m()\u001b[0m\n\u001b[1;32m      9\u001b[0m \u001b[0;32mfrom\u001b[0m \u001b[0mastropy\u001b[0m\u001b[0;34m.\u001b[0m\u001b[0mextern\u001b[0m \u001b[0;32mimport\u001b[0m \u001b[0msix\u001b[0m\u001b[0;34m\u001b[0m\u001b[0m\n\u001b[1;32m     10\u001b[0m \u001b[0;32mimport\u001b[0m \u001b[0mastropy\u001b[0m\u001b[0;34m.\u001b[0m\u001b[0munits\u001b[0m \u001b[0;32mas\u001b[0m \u001b[0mu\u001b[0m\u001b[0;34m\u001b[0m\u001b[0m\n\u001b[0;32m---> 11\u001b[0;31m \u001b[0;32mimport\u001b[0m \u001b[0mastropy\u001b[0m\u001b[0;34m.\u001b[0m\u001b[0mcoordinates\u001b[0m \u001b[0;32mas\u001b[0m \u001b[0mcoord\u001b[0m\u001b[0;34m\u001b[0m\u001b[0m\n\u001b[0m\u001b[1;32m     12\u001b[0m \u001b[0;32mimport\u001b[0m \u001b[0mastropy\u001b[0m\u001b[0;34m.\u001b[0m\u001b[0mio\u001b[0m\u001b[0;34m.\u001b[0m\u001b[0mvotable\u001b[0m \u001b[0;32mas\u001b[0m \u001b[0mvotable\u001b[0m\u001b[0;34m\u001b[0m\u001b[0m\n\u001b[1;32m     13\u001b[0m \u001b[0;34m\u001b[0m\u001b[0m\n",
      "\u001b[0;32m/usr/local/lib/python3.4/site-packages/astropy/coordinates/__init__.py\u001b[0m in \u001b[0;36m<module>\u001b[0;34m()\u001b[0m\n\u001b[1;32m     16\u001b[0m \u001b[0;32mfrom\u001b[0m \u001b[0;34m.\u001b[0m\u001b[0mearth\u001b[0m \u001b[0;32mimport\u001b[0m \u001b[0;34m*\u001b[0m\u001b[0;34m\u001b[0m\u001b[0m\n\u001b[1;32m     17\u001b[0m \u001b[0;32mfrom\u001b[0m \u001b[0;34m.\u001b[0m\u001b[0mtransformations\u001b[0m \u001b[0;32mimport\u001b[0m \u001b[0;34m*\u001b[0m\u001b[0;34m\u001b[0m\u001b[0m\n\u001b[0;32m---> 18\u001b[0;31m \u001b[0;32mfrom\u001b[0m \u001b[0;34m.\u001b[0m\u001b[0mbuiltin_frames\u001b[0m \u001b[0;32mimport\u001b[0m \u001b[0;34m*\u001b[0m\u001b[0;34m\u001b[0m\u001b[0m\n\u001b[0m\u001b[1;32m     19\u001b[0m \u001b[0;32mfrom\u001b[0m \u001b[0;34m.\u001b[0m\u001b[0mname_resolve\u001b[0m \u001b[0;32mimport\u001b[0m \u001b[0;34m*\u001b[0m\u001b[0;34m\u001b[0m\u001b[0m\n\u001b[1;32m     20\u001b[0m \u001b[0;32mfrom\u001b[0m \u001b[0;34m.\u001b[0m\u001b[0mmatching\u001b[0m \u001b[0;32mimport\u001b[0m \u001b[0;34m*\u001b[0m\u001b[0;34m\u001b[0m\u001b[0m\n",
      "\u001b[0;32m/usr/local/lib/python3.4/site-packages/astropy/coordinates/builtin_frames/__init__.py\u001b[0m in \u001b[0;36m<module>\u001b[0;34m()\u001b[0m\n\u001b[1;32m     27\u001b[0m \u001b[0;32mfrom\u001b[0m \u001b[0;34m.\u001b[0m\u001b[0mbaseradec\u001b[0m \u001b[0;32mimport\u001b[0m \u001b[0mBaseRADecFrame\u001b[0m\u001b[0;34m\u001b[0m\u001b[0m\n\u001b[1;32m     28\u001b[0m \u001b[0;32mfrom\u001b[0m \u001b[0;34m.\u001b[0m\u001b[0micrs\u001b[0m \u001b[0;32mimport\u001b[0m \u001b[0mICRS\u001b[0m\u001b[0;34m\u001b[0m\u001b[0m\n\u001b[0;32m---> 29\u001b[0;31m \u001b[0;32mfrom\u001b[0m \u001b[0;34m.\u001b[0m\u001b[0mfk5\u001b[0m \u001b[0;32mimport\u001b[0m \u001b[0mFK5\u001b[0m\u001b[0;34m\u001b[0m\u001b[0m\n\u001b[0m\u001b[1;32m     30\u001b[0m \u001b[0;32mfrom\u001b[0m \u001b[0;34m.\u001b[0m\u001b[0mfk4\u001b[0m \u001b[0;32mimport\u001b[0m \u001b[0mFK4\u001b[0m\u001b[0;34m,\u001b[0m \u001b[0mFK4NoETerms\u001b[0m\u001b[0;34m\u001b[0m\u001b[0m\n\u001b[1;32m     31\u001b[0m \u001b[0;32mfrom\u001b[0m \u001b[0;34m.\u001b[0m\u001b[0mgalactic\u001b[0m \u001b[0;32mimport\u001b[0m \u001b[0mGalactic\u001b[0m\u001b[0;34m\u001b[0m\u001b[0m\n",
      "\u001b[0;32m/usr/local/lib/python3.4/site-packages/astropy/coordinates/builtin_frames/fk5.py\u001b[0m in \u001b[0;36m<module>\u001b[0;34m()\u001b[0m\n\u001b[1;32m     10\u001b[0m \u001b[0;34m\u001b[0m\u001b[0m\n\u001b[1;32m     11\u001b[0m \u001b[0;32mfrom\u001b[0m \u001b[0;34m.\u001b[0m\u001b[0mbaseradec\u001b[0m \u001b[0;32mimport\u001b[0m \u001b[0m_base_radec_docstring\u001b[0m\u001b[0;34m,\u001b[0m \u001b[0mBaseRADecFrame\u001b[0m\u001b[0;34m\u001b[0m\u001b[0m\n\u001b[0;32m---> 12\u001b[0;31m \u001b[0;32mfrom\u001b[0m \u001b[0;34m.\u001b[0m\u001b[0mutils\u001b[0m \u001b[0;32mimport\u001b[0m \u001b[0mEQUINOX_J2000\u001b[0m\u001b[0;34m\u001b[0m\u001b[0m\n\u001b[0m\u001b[1;32m     13\u001b[0m \u001b[0;34m\u001b[0m\u001b[0m\n\u001b[1;32m     14\u001b[0m \u001b[0;34m\u001b[0m\u001b[0m\n",
      "\u001b[0;32m/usr/local/lib/python3.4/site-packages/astropy/coordinates/builtin_frames/utils.py\u001b[0m in \u001b[0;36m<module>\u001b[0;34m()\u001b[0m\n\u001b[1;32m     15\u001b[0m \u001b[0;32mfrom\u001b[0m \u001b[0;34m...\u001b[0m \u001b[0;32mimport\u001b[0m \u001b[0m_erfa\u001b[0m \u001b[0;32mas\u001b[0m \u001b[0merfa\u001b[0m\u001b[0;34m\u001b[0m\u001b[0m\n\u001b[1;32m     16\u001b[0m \u001b[0;32mfrom\u001b[0m \u001b[0;34m...\u001b[0m\u001b[0mtime\u001b[0m \u001b[0;32mimport\u001b[0m \u001b[0mTime\u001b[0m\u001b[0;34m\u001b[0m\u001b[0m\n\u001b[0;32m---> 17\u001b[0;31m \u001b[0;32mfrom\u001b[0m \u001b[0;34m...\u001b[0m\u001b[0mutils\u001b[0m \u001b[0;32mimport\u001b[0m \u001b[0miers\u001b[0m\u001b[0;34m\u001b[0m\u001b[0m\n\u001b[0m\u001b[1;32m     18\u001b[0m \u001b[0;32mfrom\u001b[0m \u001b[0;34m...\u001b[0m\u001b[0mutils\u001b[0m\u001b[0;34m.\u001b[0m\u001b[0mexceptions\u001b[0m \u001b[0;32mimport\u001b[0m \u001b[0mAstropyWarning\u001b[0m\u001b[0;34m\u001b[0m\u001b[0m\n\u001b[1;32m     19\u001b[0m \u001b[0;34m\u001b[0m\u001b[0m\n",
      "\u001b[0;32m/usr/local/lib/python3.4/site-packages/astropy/utils/iers/__init__.py\u001b[0m in \u001b[0;36m<module>\u001b[0;34m()\u001b[0m\n\u001b[1;32m      2\u001b[0m                         unicode_literals)\n\u001b[1;32m      3\u001b[0m \u001b[0;34m\u001b[0m\u001b[0m\n\u001b[0;32m----> 4\u001b[0;31m \u001b[0;32mfrom\u001b[0m \u001b[0;34m.\u001b[0m\u001b[0miers\u001b[0m \u001b[0;32mimport\u001b[0m \u001b[0;34m*\u001b[0m\u001b[0;34m\u001b[0m\u001b[0m\n\u001b[0m",
      "\u001b[0;32m/usr/local/lib/python3.4/site-packages/astropy/utils/iers/iers.py\u001b[0m in \u001b[0;36m<module>\u001b[0;34m()\u001b[0m\n\u001b[1;32m     23\u001b[0m \u001b[0;32mfrom\u001b[0m \u001b[0;34m...\u001b[0m \u001b[0;32mimport\u001b[0m \u001b[0mconfig\u001b[0m \u001b[0;32mas\u001b[0m \u001b[0m_config\u001b[0m\u001b[0;34m\u001b[0m\u001b[0m\n\u001b[1;32m     24\u001b[0m \u001b[0;32mfrom\u001b[0m \u001b[0;34m...\u001b[0m \u001b[0;32mimport\u001b[0m \u001b[0munits\u001b[0m \u001b[0;32mas\u001b[0m \u001b[0mu\u001b[0m\u001b[0;34m\u001b[0m\u001b[0m\n\u001b[0;32m---> 25\u001b[0;31m \u001b[0;32mfrom\u001b[0m \u001b[0;34m...\u001b[0m\u001b[0mtable\u001b[0m \u001b[0;32mimport\u001b[0m \u001b[0mTable\u001b[0m\u001b[0;34m,\u001b[0m \u001b[0mQTable\u001b[0m\u001b[0;34m\u001b[0m\u001b[0m\n\u001b[0m\u001b[1;32m     26\u001b[0m \u001b[0;32mfrom\u001b[0m \u001b[0;34m...\u001b[0m\u001b[0mutils\u001b[0m\u001b[0;34m.\u001b[0m\u001b[0mdata\u001b[0m \u001b[0;32mimport\u001b[0m \u001b[0mget_pkg_data_filename\u001b[0m\u001b[0;34m,\u001b[0m \u001b[0mclear_download_cache\u001b[0m\u001b[0;34m\u001b[0m\u001b[0m\n\u001b[1;32m     27\u001b[0m \u001b[0;32mfrom\u001b[0m \u001b[0;34m...\u001b[0m \u001b[0;32mimport\u001b[0m \u001b[0mutils\u001b[0m\u001b[0;34m\u001b[0m\u001b[0m\n",
      "\u001b[0;32m/usr/local/lib/python3.4/site-packages/astropy/table/__init__.py\u001b[0m in \u001b[0;36m<module>\u001b[0;34m()\u001b[0m\n\u001b[1;32m     59\u001b[0m     \u001b[0;32mfrom\u001b[0m \u001b[0;34m.\u001b[0m\u001b[0mjsviewer\u001b[0m \u001b[0;32mimport\u001b[0m \u001b[0mJSViewer\u001b[0m\u001b[0;34m\u001b[0m\u001b[0m\n\u001b[1;32m     60\u001b[0m     \u001b[0;32mfrom\u001b[0m \u001b[0;34m.\u001b[0m\u001b[0;34m.\u001b[0m\u001b[0mio\u001b[0m\u001b[0;34m.\u001b[0m\u001b[0mascii\u001b[0m \u001b[0;32mimport\u001b[0m \u001b[0mconnect\u001b[0m\u001b[0;34m\u001b[0m\u001b[0m\n\u001b[0;32m---> 61\u001b[0;31m     \u001b[0;32mfrom\u001b[0m \u001b[0;34m.\u001b[0m\u001b[0;34m.\u001b[0m\u001b[0mio\u001b[0m\u001b[0;34m.\u001b[0m\u001b[0mfits\u001b[0m \u001b[0;32mimport\u001b[0m \u001b[0mconnect\u001b[0m\u001b[0;34m\u001b[0m\u001b[0m\n\u001b[0m\u001b[1;32m     62\u001b[0m     \u001b[0;32mfrom\u001b[0m \u001b[0;34m.\u001b[0m\u001b[0;34m.\u001b[0m\u001b[0mio\u001b[0m\u001b[0;34m.\u001b[0m\u001b[0mmisc\u001b[0m \u001b[0;32mimport\u001b[0m \u001b[0mconnect\u001b[0m\u001b[0;34m\u001b[0m\u001b[0m\n\u001b[1;32m     63\u001b[0m     \u001b[0;32mfrom\u001b[0m \u001b[0;34m.\u001b[0m\u001b[0;34m.\u001b[0m\u001b[0mio\u001b[0m\u001b[0;34m.\u001b[0m\u001b[0mvotable\u001b[0m \u001b[0;32mimport\u001b[0m \u001b[0mconnect\u001b[0m\u001b[0;34m\u001b[0m\u001b[0m\n",
      "\u001b[0;32m/usr/local/lib/python3.4/site-packages/astropy/io/fits/__init__.py\u001b[0m in \u001b[0;36m<module>\u001b[0;34m()\u001b[0m\n\u001b[1;32m     71\u001b[0m \u001b[0;32mfrom\u001b[0m \u001b[0;34m.\u001b[0m \u001b[0;32mimport\u001b[0m \u001b[0mcard\u001b[0m\u001b[0;34m\u001b[0m\u001b[0m\n\u001b[1;32m     72\u001b[0m \u001b[0;32mfrom\u001b[0m \u001b[0;34m.\u001b[0m \u001b[0;32mimport\u001b[0m \u001b[0mcolumn\u001b[0m\u001b[0;34m\u001b[0m\u001b[0m\n\u001b[0;32m---> 73\u001b[0;31m \u001b[0;32mfrom\u001b[0m \u001b[0;34m.\u001b[0m \u001b[0;32mimport\u001b[0m \u001b[0mconvenience\u001b[0m\u001b[0;34m\u001b[0m\u001b[0m\n\u001b[0m\u001b[1;32m     74\u001b[0m \u001b[0;32mfrom\u001b[0m \u001b[0;34m.\u001b[0m \u001b[0;32mimport\u001b[0m \u001b[0mhdu\u001b[0m\u001b[0;34m\u001b[0m\u001b[0m\n\u001b[1;32m     75\u001b[0m \u001b[0;32mfrom\u001b[0m \u001b[0;34m.\u001b[0m\u001b[0mcard\u001b[0m \u001b[0;32mimport\u001b[0m \u001b[0;34m*\u001b[0m\u001b[0;34m\u001b[0m\u001b[0m\n",
      "\u001b[0;32m/usr/local/lib/python3.4/site-packages/astropy/io/fits/convenience.py\u001b[0m in \u001b[0;36m<module>\u001b[0;34m()\u001b[0m\n\u001b[1;32m     62\u001b[0m \u001b[0;32mimport\u001b[0m \u001b[0mnumpy\u001b[0m \u001b[0;32mas\u001b[0m \u001b[0mnp\u001b[0m\u001b[0;34m\u001b[0m\u001b[0m\n\u001b[1;32m     63\u001b[0m \u001b[0;34m\u001b[0m\u001b[0m\n\u001b[0;32m---> 64\u001b[0;31m \u001b[0;32mfrom\u001b[0m \u001b[0;34m.\u001b[0m\u001b[0mdiff\u001b[0m \u001b[0;32mimport\u001b[0m \u001b[0mFITSDiff\u001b[0m\u001b[0;34m,\u001b[0m \u001b[0mHDUDiff\u001b[0m\u001b[0;34m\u001b[0m\u001b[0m\n\u001b[0m\u001b[1;32m     65\u001b[0m \u001b[0;32mfrom\u001b[0m \u001b[0;34m.\u001b[0m\u001b[0mfile\u001b[0m \u001b[0;32mimport\u001b[0m \u001b[0mFILE_MODES\u001b[0m\u001b[0;34m,\u001b[0m \u001b[0m_File\u001b[0m\u001b[0;34m\u001b[0m\u001b[0m\n\u001b[1;32m     66\u001b[0m \u001b[0;32mfrom\u001b[0m \u001b[0;34m.\u001b[0m\u001b[0mhdu\u001b[0m\u001b[0;34m.\u001b[0m\u001b[0mbase\u001b[0m \u001b[0;32mimport\u001b[0m \u001b[0m_BaseHDU\u001b[0m\u001b[0;34m,\u001b[0m \u001b[0m_ValidHDU\u001b[0m\u001b[0;34m\u001b[0m\u001b[0m\n",
      "\u001b[0;32m/usr/local/lib/python3.4/site-packages/astropy/io/fits/diff.py\u001b[0m in \u001b[0;36m<module>\u001b[0;34m()\u001b[0m\n\u001b[1;32m     32\u001b[0m \u001b[0;32mfrom\u001b[0m \u001b[0;34m...\u001b[0m\u001b[0mutils\u001b[0m\u001b[0;34m.\u001b[0m\u001b[0mcompat\u001b[0m\u001b[0;34m.\u001b[0m\u001b[0mfuncsigs\u001b[0m \u001b[0;32mimport\u001b[0m \u001b[0msignature\u001b[0m\u001b[0;34m\u001b[0m\u001b[0m\n\u001b[1;32m     33\u001b[0m \u001b[0;32mfrom\u001b[0m \u001b[0;34m.\u001b[0m\u001b[0mcard\u001b[0m \u001b[0;32mimport\u001b[0m \u001b[0mCard\u001b[0m\u001b[0;34m,\u001b[0m \u001b[0mBLANK_CARD\u001b[0m\u001b[0;34m\u001b[0m\u001b[0m\n\u001b[0;32m---> 34\u001b[0;31m \u001b[0;32mfrom\u001b[0m \u001b[0;34m.\u001b[0m\u001b[0mheader\u001b[0m \u001b[0;32mimport\u001b[0m \u001b[0mHeader\u001b[0m\u001b[0;34m\u001b[0m\u001b[0m\n\u001b[0m\u001b[1;32m     35\u001b[0m \u001b[0;32mfrom\u001b[0m \u001b[0;34m...\u001b[0m\u001b[0mutils\u001b[0m\u001b[0;34m.\u001b[0m\u001b[0mdecorators\u001b[0m \u001b[0;32mimport\u001b[0m \u001b[0mdeprecated_renamed_argument\u001b[0m\u001b[0;34m\u001b[0m\u001b[0m\n\u001b[1;32m     36\u001b[0m \u001b[0;31m# HDUList is used in one of the doctests\u001b[0m\u001b[0;34m\u001b[0m\u001b[0;34m\u001b[0m\u001b[0m\n",
      "\u001b[0;32m/usr/local/lib/python3.4/site-packages/astropy/io/fits/header.py\u001b[0m in \u001b[0;36m<module>\u001b[0;34m()\u001b[0m\n\u001b[1;32m     10\u001b[0m \u001b[0;34m\u001b[0m\u001b[0m\n\u001b[1;32m     11\u001b[0m \u001b[0;32mfrom\u001b[0m \u001b[0;34m.\u001b[0m\u001b[0mcard\u001b[0m \u001b[0;32mimport\u001b[0m \u001b[0mCard\u001b[0m\u001b[0;34m,\u001b[0m \u001b[0m_pad\u001b[0m\u001b[0;34m,\u001b[0m \u001b[0mKEYWORD_LENGTH\u001b[0m\u001b[0;34m\u001b[0m\u001b[0m\n\u001b[0;32m---> 12\u001b[0;31m \u001b[0;32mfrom\u001b[0m \u001b[0;34m.\u001b[0m\u001b[0mfile\u001b[0m \u001b[0;32mimport\u001b[0m \u001b[0m_File\u001b[0m\u001b[0;34m\u001b[0m\u001b[0m\n\u001b[0m\u001b[1;32m     13\u001b[0m \u001b[0;32mfrom\u001b[0m \u001b[0;34m.\u001b[0m\u001b[0mutil\u001b[0m \u001b[0;32mimport\u001b[0m \u001b[0mencode_ascii\u001b[0m\u001b[0;34m,\u001b[0m \u001b[0mdecode_ascii\u001b[0m\u001b[0;34m,\u001b[0m \u001b[0mfileobj_closed\u001b[0m\u001b[0;34m,\u001b[0m \u001b[0mfileobj_is_binary\u001b[0m\u001b[0;34m\u001b[0m\u001b[0m\n\u001b[1;32m     14\u001b[0m \u001b[0;34m\u001b[0m\u001b[0m\n",
      "\u001b[0;32m/usr/local/lib/python3.4/site-packages/astropy/io/fits/file.py\u001b[0m in \u001b[0;36m<module>\u001b[0;34m()\u001b[0m\n\u001b[1;32m      3\u001b[0m \u001b[0;32mfrom\u001b[0m \u001b[0m__future__\u001b[0m \u001b[0;32mimport\u001b[0m \u001b[0mdivision\u001b[0m\u001b[0;34m,\u001b[0m \u001b[0mwith_statement\u001b[0m\u001b[0;34m\u001b[0m\u001b[0m\n\u001b[1;32m      4\u001b[0m \u001b[0;34m\u001b[0m\u001b[0m\n\u001b[0;32m----> 5\u001b[0;31m \u001b[0;32mimport\u001b[0m \u001b[0mbz2\u001b[0m\u001b[0;34m\u001b[0m\u001b[0m\n\u001b[0m\u001b[1;32m      6\u001b[0m \u001b[0;32mimport\u001b[0m \u001b[0mgzip\u001b[0m\u001b[0;34m\u001b[0m\u001b[0m\n\u001b[1;32m      7\u001b[0m \u001b[0;32mimport\u001b[0m \u001b[0mmmap\u001b[0m\u001b[0;34m\u001b[0m\u001b[0m\n",
      "\u001b[0;32m/usr/local/lib/python3.4/bz2.py\u001b[0m in \u001b[0;36m<module>\u001b[0;34m()\u001b[0m\n\u001b[1;32m     19\u001b[0m     \u001b[0;32mfrom\u001b[0m \u001b[0mdummy_threading\u001b[0m \u001b[0;32mimport\u001b[0m \u001b[0mRLock\u001b[0m\u001b[0;34m\u001b[0m\u001b[0m\n\u001b[1;32m     20\u001b[0m \u001b[0;34m\u001b[0m\u001b[0m\n\u001b[0;32m---> 21\u001b[0;31m \u001b[0;32mfrom\u001b[0m \u001b[0m_bz2\u001b[0m \u001b[0;32mimport\u001b[0m \u001b[0mBZ2Compressor\u001b[0m\u001b[0;34m,\u001b[0m \u001b[0mBZ2Decompressor\u001b[0m\u001b[0;34m\u001b[0m\u001b[0m\n\u001b[0m\u001b[1;32m     22\u001b[0m \u001b[0;34m\u001b[0m\u001b[0m\n\u001b[1;32m     23\u001b[0m \u001b[0;34m\u001b[0m\u001b[0m\n",
      "\u001b[0;31mImportError\u001b[0m: No module named '_bz2'"
     ]
    }
   ],
   "source": [
    "%matplotlib inline \n",
    "import matplotlib.pyplot as plt\n",
    "import numpy as np \n",
    "import glob as glob\n",
    "import random\n",
    "from statistics import mode\n",
    "from numpy import trapz\n",
    "from astropy.time import Time\n",
    "from bs4 import BeautifulSoup\n",
    "from astroquery.ned import Ned\n",
    "import urllib\n",
    "import urllib.request\n",
    "import urllib.response\n",
    "c = 299792 #speed of light in km/s"
   ]
  },
  {
   "cell_type": "code",
   "execution_count": null,
   "metadata": {},
   "outputs": [],
   "source": [
    "def gsmooth(x_array, y_array, var_y, vexp = .001, nsig = 5.0):\n",
    "    #returns smoothed flux array\n",
    "    # if no variance array create a constant one\n",
    "    if len(var_y) == 0:\n",
    "        var_y = np.zeros(len(y_array))\n",
    "        \n",
    "    for i in range(len(var_y)):\n",
    "        if var_y[i] == 0:\n",
    "            var_y[i] = 1E-20\n",
    "            # var_y[i] = 1E-31\n",
    "    \n",
    "    # Output y-array\n",
    "    new_y = np.zeros(len(x_array), float)\n",
    "    \n",
    "    # Loop over y-array elements\n",
    "    for i in range(len(x_array)):\n",
    "        \n",
    "        # Construct a Gaussian of sigma = vexp*x_array[i]\n",
    "        gaussian = np.zeros(len(x_array), float)\n",
    "        sigma = vexp*x_array[i]\n",
    "        \n",
    "        # Restrict range to +/- nsig sigma\n",
    "        sigrange = np.nonzero(abs(x_array-x_array[i]) <= nsig*sigma)\n",
    "        gaussian[sigrange] = (1/(sigma*np.sqrt(2*np.pi)))*np.exp(-0.5*((x_array[sigrange]-x_array[i])/sigma)**2)\n",
    "        \n",
    "        # Multiply Gaussian by 1 / variance\n",
    "        W_lambda = gaussian / var_y\n",
    "        \n",
    "        # Perform a weighted sum to give smoothed y value at x_array[i]\n",
    "        W0 = np.sum(W_lambda)\n",
    "        W1 = np.sum(W_lambda*y_array)\n",
    "        new_y[i] = W1/W0\n",
    "\n",
    "    # Return smoothed y-array\n",
    "    return new_y"
   ]
  },
  {
   "cell_type": "code",
   "execution_count": null,
   "metadata": {},
   "outputs": [],
   "source": [
    "def autosmooth(x_array, y_array, var_y):\n",
    "    new_y_init = gsmooth(x_array, y_array, var_y, .001)\n",
    "    SNR = np.mean(new_y_init / flux_error)\n",
    "    \n",
    "    if SNR < 5:\n",
    "        vexp_auto = .0025 #temp value, need to fine tune using SNR in excel spreadsheet\n",
    "    elif 5 <= SNR < 20:\n",
    "        vexp_auto = .002\n",
    "    elif 20 <= SNR < 40:\n",
    "        vexp_auto = .0015\n",
    "    elif 40 <= SNR < 60:\n",
    "        vexp_auto = .001\n",
    "    elif 60 <= SNR < 100:\n",
    "        vexp_auto = .00075\n",
    "    else:\n",
    "        vexp_auto = .0005\n",
    "    \n",
    "    new_y = gsmooth(x_array, y_array, var_y, vexp_auto)\n",
    "    return new_y"
   ]
  },
  {
   "cell_type": "code",
   "execution_count": null,
   "metadata": {},
   "outputs": [],
   "source": [
    "def deredshift(wavelength, z):\n",
    "    dered_wave = wavelength / (1+z)\n",
    "    return dered_wave"
   ]
  },
  {
   "cell_type": "code",
   "execution_count": null,
   "metadata": {},
   "outputs": [],
   "source": [
    "def find_min_wave(dered_wave, sm_flux, w1 = 5900., w2 = 6500.):\n",
    "    elem_range = np.where((dered_wave > w1) & (dered_wave < w2)) #set domain as within minwave and maxwave\n",
    "    list(elem_range)\n",
    "    elem_wavelist = dered_wave[elem_range] \n",
    "    elem_fluxlist = sm_flux[elem_range] #find corresponding flux vales for wavelengths within domain\n",
    "    elem_flux = min(elem_fluxlist) #find minimum value within these flux vales to locate \"dip\"\n",
    "    elem_wavelength = dered_wave[np.where(sm_flux == elem_flux)][0] #find the corresponding wavelength\n",
    "    return(elem_wavelength)"
   ]
  },
  {
   "cell_type": "code",
   "execution_count": null,
   "metadata": {},
   "outputs": [],
   "source": [
    "def find_max_wave(dered_wave, sm_flux, w1, w2):\n",
    "    max_wave = np.where((dered_wave > w1) & (dered_wave < w2))\n",
    "    list(max_wave)\n",
    "    elem_wavelist = dered_wave[max_wave]\n",
    "    elem_fluxlist = sm_flux[max_wave]\n",
    "    elem_flux = max(elem_fluxlist)\n",
    "    max_wave = dered_wave[np.where(sm_flux == elem_flux)][0]\n",
    "    return(max_wave)"
   ]
  },
  {
   "cell_type": "code",
   "execution_count": null,
   "metadata": {},
   "outputs": [],
   "source": [
    "max_1_wave = find_max_wave(dered_wave,sm_flux, 5700, 6100)\n",
    "print (max_1_wave)\n",
    "max_2_wave = find_max_wave(dered_wave,sm_flux,6300, 6550)\n",
    "print (max_2_wave)"
   ]
  },
  {
   "cell_type": "code",
   "execution_count": null,
   "metadata": {},
   "outputs": [],
   "source": [
    "def find_equivalent_width(dered_wave, flux, max_1_wave, max_2_wave):\n",
    "    \n",
    "    eqw_domain = np.where((dered_wave >= max_1_wave) & (dered_wave <= max_2_wave))\n",
    "    list(eqw_domain)\n",
    "    elem_fluxlist_eqw_domain = flux[eqw_domain]\n",
    "    elem_wavelist_eqw_domain = dered_wave[eqw_domain]\n",
    "    \n",
    "    line_elem = np.polyfit(elem_wavelist_eqw_domain, elem_fluxlist_eqw_domain, 1)\n",
    "    line = line_elem[0]*elem_wavelist_eqw_domain + line_elem[1]\n",
    "    \n",
    "    norm = elem_fluxlist_eqw_domain/line\n",
    "    \n",
    "    area_small = trapz(elem_fluxlist_eqw_domain, dx=1)\n",
    "    area_big = trapz(norm, dx =1)\n",
    "    \n",
    "    equivalent_width = area_big - area_small\n",
    "    \n",
    "    return (equivalent_width)"
   ]
  },
  {
   "cell_type": "code",
   "execution_count": null,
   "metadata": {},
   "outputs": [],
   "source": [
    "eq_width = find_equivalent_width(dered_wave, sm_flux)\n",
    "print(eq_width)"
   ]
  },
  {
   "cell_type": "code",
   "execution_count": null,
   "metadata": {},
   "outputs": [],
   "source": [
    "def find_velocity(min_wave, rest_wave = 6355.):\n",
    "    wavelength_prop = min_wave / rest_wave\n",
    "    ejecta_velocity = c * (wavelength_prop ** 2 - 1) / (wavelength_prop ** 2 + 1)\n",
    "    return ejecta_velocity"
   ]
  },
  {
   "cell_type": "code",
   "execution_count": null,
   "metadata": {},
   "outputs": [],
   "source": [
    "def get_SN_name(file):\n",
    "    SN_name = file.split('-')[0]\n",
    "    return SN_name"
   ]
  },
  {
   "cell_type": "code",
   "execution_count": null,
   "metadata": {},
   "outputs": [],
   "source": [
    "def make_z_dict(file):\n",
    "    #reads in CfA4_info.txt\n",
    "    sn_datatext = open(file, \"r\")\n",
    "    sn_datainfo = sn_datatext.readlines()\n",
    "    z_dict = {}\n",
    "    start_line = 60\n",
    "    for line in sn_datainfo[start_line:]:\n",
    "        line_elems = line.split()\n",
    "        temp = line_elems[0]\n",
    "        if temp[0] == \"2\":\n",
    "            name = \"sn\" + temp\n",
    "        else:\n",
    "            name = temp\n",
    "        z = line_elems[10]\n",
    "        z_dict[name] = float(z)\n",
    "    return z_dict"
   ]
  },
  {
   "cell_type": "code",
   "execution_count": null,
   "metadata": {},
   "outputs": [],
   "source": [
    "def vel_error_dist(wavelength, flux, flux_error, n = 1000):\n",
    "    velocity_distribution = []\n",
    "    minwave = 6000\n",
    "    maxwave = 7000\n",
    "    wavelength_rest = 6355\n",
    "    for i in range(n):\n",
    "        vexp= np.random.normal(.0015,.00025) \n",
    "        smooth_flux = gsmooth(wavelength, flux, flux_error,vexp)\n",
    "        SiII_obs = find_wave_obs(wavelength, smooth_flux, minwave, maxwave)\n",
    "        v = find_velocity(SiII_obs, wavelength_rest)\n",
    "        #print (v, vexp, SiII_obs) this line can be uncommented to analyze increments of the loop individually\n",
    "        velocity_distribution.append(v)\n",
    "    vmode = mode(velocity_distribution)\n",
    "    vmean = np.mean(velocity_distribution)\n",
    "    vstd = np.std(velocity_distribution)\n",
    "    lower95bound = sorted(velocity_distribution)[24]\n",
    "    upper95bound = sorted(velocity_distribution)[974]\n",
    "    plt.hist(velocity_distribution)\n",
    "    return \"Ejecta velocity is\", vmode ,\"km/s\", \"mean velocity is\", vmean, \"km/s\", \"standard deviation is\", vstd, \"km/s.\", \"The 95th percentile confidence interval is between\", lower95, \"and\", upper95"
   ]
  },
  {
   "cell_type": "code",
   "execution_count": null,
   "metadata": {},
   "outputs": [],
   "source": [
    "def dflux(wave):\n",
    "    unsmflux = flux[np.where(dered_wavelength == wave)]\n",
    "    smflux = sm_flux[np.where(dered_wavelength == wave)]\n",
    "    dflux = smflux - unsmflux\n",
    "    return dflux"
   ]
  },
  {
   "cell_type": "code",
   "execution_count": null,
   "metadata": {},
   "outputs": [],
   "source": [
    "#Parse ned for associated galaxy\n",
    "#use astroquery to find z value\n",
    "def find_z(SN_name):\n",
    "    query_url = 'https://ned.ipac.caltech.edu/cgi-bin/objsearch?objname=sn2007fs&extend=no&hconst=73&omegam=0.27&omegav=0.73&corr_z=1&out_csys=Equatorial&out_equinox=J2000.0&obj_sort=RA+or+Longitude&of=pre_text&zv_breaker=30000.0&list_limit=5&img_stamp=YES'\n",
    "    sn_url = query_url.replace(\"sn2007fs\", SN_name)\n",
    "    response = urllib.request.urlopen(sn_url)\n",
    "    ned_html = response.read()\n",
    "    soup = BeautifulSoup(ned_html, 'html.parser')\n",
    "    ned_text = soup.get_text().split('\\n')\n",
    "    for i in range(len(ned_text)):\n",
    "        if 'CROSS-IDENTIFICATIONS' in ned_text[i]:\n",
    "            break\n",
    "    cross_id_text = ned_text[i:i+5]\n",
    "    for line in cross_id_text:\n",
    "        if ':' in line:\n",
    "            cut1 = line.split('SN')\n",
    "            for el in cut1:\n",
    "                if ':' in el:\n",
    "                    galaxy = el.split(':')[0].strip()\n",
    "                    data = Ned.get_table(galaxy, table = 'redshifts')\n",
    "                    tablelength = len(data)\n",
    "                   # z = 0\n",
    "                    #if tablelength == 5:\n",
    "                    z = data[0][4]\n",
    "                    #elif tablelength == 4:\n",
    "                        #z = data[3][4]\n",
    "                    #elif tablelength == 3:\n",
    "                        #z = data[2][4]\n",
    "                    #print z\n",
    "    return z"
   ]
  },
  {
   "cell_type": "code",
   "execution_count": null,
   "metadata": {},
   "outputs": [],
   "source": [
    "def find_galaxy(SN_name):\n",
    "    query_url = 'https://ned.ipac.caltech.edu/cgi-bin/objsearch?objname=sn2007fs&extend=no&hconst=73&omegam=0.27&omegav=0.73&corr_z=1&out_csys=Equatorial&out_equinox=J2000.0&obj_sort=RA+or+Longitude&of=pre_text&zv_breaker=30000.0&list_limit=5&img_stamp=YES'\n",
    "    sn_url = query_url.replace(\"sn2007fs\", SN_name)\n",
    "    response = urllib.request.urlopen(sn_url)\n",
    "    ned_html = response.read()\n",
    "    soup = BeautifulSoup(ned_html, 'html.parser')\n",
    "    ned_text = soup.get_text().split('\\n')\n",
    "    for i in range(len(ned_text)):\n",
    "        if 'CROSS-IDENTIFICATIONS' in ned_text[i]:\n",
    "            break\n",
    "    cross_id_text = ned_text[i:i+5]\n",
    "    for line in cross_id_text:\n",
    "        if ':' in line:\n",
    "            cut1 = line.split('SN')\n",
    "            for el in cut1:\n",
    "                if ':' in el:\n",
    "                    galaxy = el.split(':')[0].strip()\n",
    "    return galaxy"
   ]
  },
  {
   "cell_type": "code",
   "execution_count": null,
   "metadata": {},
   "outputs": [],
   "source": [
    "def plotspectra(wavelength, flux, dered_wave, sm_flux):\n",
    "    plt.figure(figsize=(20, 10))\n",
    "    plt.axvline(x=6355, linewidth=.5)\n",
    "    #resting wavelength of Si II\n",
    "    plt.plot(wavelength, flux, linewidth=1, color='red') #redshifted\n",
    "    plt.plot(dered_wave, sm_flux, linewidth=1, color='blue') #deredshifted\n",
    "    plt.xlabel('Wavelength (Angstroms)')\n",
    "    plt.ylabel('Relative Flux')"
   ]
  },
  {
   "cell_type": "code",
   "execution_count": null,
   "metadata": {},
   "outputs": [],
   "source": [
    "#TEST YOUR CODE ON ONE OBJECT (plot original spectrum, deredshifted spectrum, and the smoothed deredshifted spectrum, print velocity)\n",
    "#YOUR CODE GOES HERE\n",
    "my_Supernova = (\"sn2007hj-20070903.28-fast.flm\")\n",
    "\n",
    "wavelength, flux, flux_error = np.loadtxt(my_Supernova, unpack = True)\n",
    "z = 0.003\n",
    "dered_wave = deredshift(wavelength, z)\n",
    "sm_flux = gsmooth(dered_wave, flux, flux_error)\n",
    "\n",
    "plotspectra(wavelength, flux, dered_wave, sm_flux)\n",
    "\n",
    "plt.axhline(y = 9e-16)\n"
   ]
  },
  {
   "cell_type": "code",
   "execution_count": null,
   "metadata": {},
   "outputs": [],
   "source": [
    "#YOUR CODE GOES HERE\n",
    "z_dict = make_z_dict(\"CfA4_info.txt\")\n",
    "sndata = glob.glob(\"*.flm\")\n",
    "wavelength, flux, flux_error = np.loadtxt(sndata[0], unpack = True)\n",
    "z = 0.017192 #obtain from NED\n",
    "#c = 299792 #speed of light in km/s\n",
    "print(sndata)\n",
    "dered_wave = deredshift(wavelength, z)\n",
    "sm_flux = gsmooth(dered_wave, flux, flux_error)\n",
    "min_wave = find_min_wave(dered_wave, sm_flux)\n",
    "print(min_wave)\n",
    "v = find_velocity(min_wave)\n",
    "print(v)"
   ]
  },
  {
   "cell_type": "code",
   "execution_count": null,
   "metadata": {},
   "outputs": [],
   "source": [
    "make_z_dict(\"CfA4_info.txt\")"
   ]
  },
  {
   "cell_type": "code",
   "execution_count": null,
   "metadata": {},
   "outputs": [],
   "source": [
    "class SupernovaName:\n",
    "    def __init__(self, SN_name):\n",
    "        self.name = SN_name\n",
    "        self.files = glob.glob(self.name)\n",
    "        self.z = find_z(self.name)\n",
    "        self.galaxy = find_galaxy(self.name)"
   ]
  },
  {
   "cell_type": "code",
   "execution_count": null,
   "metadata": {},
   "outputs": [],
   "source": [
    "#ERROR for some reason glob is reading in 'filename' as a file object or a variable and not a filename :/\n",
    "class spectrum:\n",
    "    def __init__(self, filename):\n",
    "        self.filename = filename\n",
    "        self.data = glob.glob(self.filename)\n",
    "        wavelength, flux, flux_error = np.loadtxt(self.data[0], unpack = True)\n",
    "        \n",
    "    def csndata(self):\n",
    "        sndata = glob.glob(self.filename)\n",
    "        wavelength, flux, flux_error = np.loadtxt(sndata[0], unpack = True)\n",
    "        plt.figure(figsize=(10, 4))\n",
    "        plt.plot(wavelength,flux, linewidth=.5, color='blue')\n",
    "        plt.axvline(x=6355, linewidth=.5)\n",
    "        #resting wavelength of Si II\n",
    "        plt.xlabel('Wavelength (Angstroms)')\n",
    "        plt.ylabel('Relative Flux')\n",
    "        return wavelength, flux, flux_error\n",
    "    \n",
    "    def cderedshift(self):\n",
    "        #z = get_z(name) must be implemented later\n",
    "        sndata = glob.glob(self.filename)\n",
    "        wavelength, flux, flux_error = np.loadtxt(sndata[0], unpack = True)\n",
    "        dered_wave = deredshift(wavelength, z)\n",
    "        return dered_wave\n",
    "    \n",
    "    def cfind_min_wave(self):\n",
    "        #z = get_z(name) must be implemented later\n",
    "        z = .017193 #test\n",
    "        sndata = glob.glob(self.filename)\n",
    "        wavelength, flux, flux_error = np.loadtxt(sndata[0], unpack = True)\n",
    "        dered_wave = deredshift(wavelength, z)\n",
    "        sm_flux = gsmooth(dered_wave, flux, flux_error) #automated smoothing has not been implemented yet\n",
    "        min_wave = find_min_wave(dered_wave, sm_flux)\n",
    "        return min_wave\n",
    "    \n",
    "    def cfind_velocity(self):\n",
    "        z = .017193 #test\n",
    "        sndata = glob.glob(self.filename)\n",
    "        wavelength, flux, flux_error = np.loadtxt(sndata[0], unpack = True)\n",
    "        dered_wave = deredshift(wavelength, z)\n",
    "        sm_flux = gsmooth(dered_wave, flux, flux_error) #automated smoothing has not been implemented yet\n",
    "        min_wave = find_min_wave(dered_wave, sm_flux)\n",
    "        ejecta_velocity = find_velocity(min_wave)\n",
    "        return ejecta_velocity"
   ]
  },
  {
   "cell_type": "code",
   "execution_count": null,
   "metadata": {},
   "outputs": [],
   "source": [
    "#FINAL SCRIPT STEPS\n",
    "#1) Get array of all flm file names\n",
    "#2) Make redshift dictionary\n",
    "#3) loop through files\n",
    "    #a) read in spectrum\n",
    "    #b) get SN name from file name\n",
    "    #c) get redshift from dictionary\n",
    "    #d) deredshift\n",
    "    #e) smooth\n",
    "    #f) find wavelength where Si line is minimum\n",
    "    #g) find and print velocity (and SN name)"
   ]
  },
  {
   "cell_type": "code",
   "execution_count": null,
   "metadata": {},
   "outputs": [],
   "source": [
    "sndata = glob.glob(\"*.flm\")\n",
    "\n",
    "z_dict = make_z_dict(\"CfA4_info.txt\")\n",
    "for i in range(len(sndata)):\n",
    "    name = get_SN_name(sndata[i])\n",
    "    wavelength, flux, flux_error = np.loadtxt(sndata[i], unpack = True)\n",
    "    dered_wave = deredshift(wavelength, z_dict[name])\n",
    "    sm_flux = gsmooth(dered_wave, flux, flux_error)\n",
    "    min_wave = find_min_wave(dered_wave, sm_flux)\n",
    "    v = find_velocity(min_wave)\n",
    "    print (v)"
   ]
  },
  {
   "cell_type": "code",
   "execution_count": null,
   "metadata": {},
   "outputs": [],
   "source": [
    "def find_t_obs(file): #gets observed date and time from file name and converts it to a modified julian date\n",
    "    date = file.split('-')[1]\n",
    "    datetime = date[0:4] + \"-\" + date[4:6] + \"-\" + date[6:]\n",
    "    t = Time(datetime)\n",
    "    t.format = 'mjd'    \n",
    "    t_obs = t.value\n",
    "    return t_obs\n",
    "    \n",
    "#test it out\n",
    "find_t_obs(\"sn2007jg-20070920.46-fast.flm\")"
   ]
  },
  {
   "cell_type": "code",
   "execution_count": null,
   "metadata": {},
   "outputs": [],
   "source": [
    "def measure_phase(file, t_max, z_dict): #get t_max from Matt\n",
    "    t_obs = find_t_obs(file)\n",
    "    z = z_dict[get_SN_name(file)]\n",
    "    phase = (t_obs - t_max)/(1+z)\n",
    "    return phase\n",
    "\n",
    "#random test with random t_max, I don't know what t-max is yet\n",
    "measure_phase(\"sn2007jg-20070920.46-fast.flm\", 53000, z_dict)"
   ]
  },
  {
   "cell_type": "code",
   "execution_count": null,
   "metadata": {},
   "outputs": [],
   "source": [
    "def find_v_0 (phase, v_obs, sigma_vobs): #computes velocity at t_max\n",
    "    v = v_obs\n",
    "    t = phase\n",
    "    v_0 = (v + (0.285*t))/(1 - (0.0322*t))\n",
    "    sigma_v_0 = ((sigma_v_obs/(1-0.0322t))^2 + 0.22^2)^(1/2) #get sigma_vobs from the kyle's function that determines the error of a velocity measurement\n",
    "    return v_0, sigma_v_0"
   ]
  },
  {
   "cell_type": "code",
   "execution_count": null,
   "metadata": {},
   "outputs": [],
   "source": []
  },
  {
   "cell_type": "code",
   "execution_count": null,
   "metadata": {},
   "outputs": [],
   "source": []
  }
 ],
 "metadata": {
  "kernelspec": {
   "display_name": "Python 3",
   "language": "python",
   "name": "python3"
  },
  "language_info": {
   "codemirror_mode": {
    "name": "ipython",
    "version": 3
   },
   "file_extension": ".py",
   "mimetype": "text/x-python",
   "name": "python",
   "nbconvert_exporter": "python",
   "pygments_lexer": "ipython3",
   "version": "3.4.6"
  }
 },
 "nbformat": 4,
 "nbformat_minor": 2
}
