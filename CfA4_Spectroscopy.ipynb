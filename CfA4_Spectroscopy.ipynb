{
 "cells": [
  {
   "cell_type": "code",
   "execution_count": 1,
   "metadata": {
    "collapsed": true
   },
   "outputs": [],
   "source": [
    "%matplotlib inline \n",
    "import matplotlib.pyplot as plt\n",
    "import numpy as np \n",
    "import glob"
   ]
  },
  {
   "cell_type": "code",
   "execution_count": 2,
   "metadata": {
    "collapsed": true
   },
   "outputs": [],
   "source": [
    "def gsmooth(x_array, y_array, var_y, vexp = .001, nsig = 5.0):\n",
    "    #returns smoothed flux array\n",
    "    # if no variance array create a constant one\n",
    "    if len(var_y) == 0:\n",
    "        var_y = np.zeros(len(y_array))\n",
    "        \n",
    "    for i in range(len(var_y)):\n",
    "        if var_y[i] == 0:\n",
    "            var_y[i] = 1E-20\n",
    "            # var_y[i] = 1E-31\n",
    "    \n",
    "    # Output y-array\n",
    "    new_y = np.zeros(len(x_array), float)\n",
    "    \n",
    "    # Loop over y-array elements\n",
    "    for i in range(len(x_array)):\n",
    "        \n",
    "        # Construct a Gaussian of sigma = vexp*x_array[i]\n",
    "        gaussian = np.zeros(len(x_array), float)\n",
    "        sigma = vexp*x_array[i]\n",
    "        \n",
    "        # Restrict range to +/- nsig sigma\n",
    "        sigrange = np.nonzero(abs(x_array-x_array[i]) <= nsig*sigma)\n",
    "        gaussian[sigrange] = (1/(sigma*np.sqrt(2*np.pi)))*np.exp(-0.5*((x_array[sigrange]-x_array[i])/sigma)**2)\n",
    "        \n",
    "        # Multiply Gaussian by 1 / variance\n",
    "        W_lambda = gaussian / var_y\n",
    "        \n",
    "        # Perform a weighted sum to give smoothed y value at x_array[i]\n",
    "        W0 = np.sum(W_lambda)\n",
    "        W1 = np.sum(W_lambda*y_array)\n",
    "        new_y[i] = W1/W0\n",
    "\n",
    "    # Return smoothed y-array\n",
    "    return new_y"
   ]
  },
  {
   "cell_type": "code",
   "execution_count": 17,
   "metadata": {
    "collapsed": true
   },
   "outputs": [],
   "source": [
    "def deredshift(wavelength, z):\n",
    "    dered_wave = wavelength / (1.+z)\n",
    "    return dered_wave"
   ]
  },
  {
   "cell_type": "code",
   "execution_count": 22,
   "metadata": {
    "collapsed": true
   },
   "outputs": [],
   "source": [
    "def find_min_wave(dered_wave, sm_flux, w1 = 5900., w2 = 6500.):\n",
    "    elem_range = np.where((dered_wave > w1) & (dered_wave < w2)) #set domain as within minwave and maxwave\n",
    "    elem_fluxlist = sm_flux[elem_range] #find corresponding flux vales for wavelengths within domain\n",
    "    elem_flux = min(elem_fluxlist) #find minimum value within these flux vales to locate \"dip\"\n",
    "    elem_wavelength = dered_wave[np.where(sm_flux == elem_flux)][0] #find the corresponding wavelength\n",
    "    return(elem_wavelength)"
   ]
  },
  {
   "cell_type": "code",
   "execution_count": 23,
   "metadata": {
    "collapsed": true
   },
   "outputs": [],
   "source": [
    "def find_velocity(min_wave, rest_wave = 6355.):\n",
    "    c = 299792. #speed of light in km/s\n",
    "    wavelength_prop = min_wave / rest_wave\n",
    "    ejecta_velocity = c * (wavelength_prop ** 2 - 1) / (wavelength_prop ** 2 + 1)\n",
    "    return ejecta_velocity"
   ]
  },
  {
   "cell_type": "code",
   "execution_count": 12,
   "metadata": {
    "collapsed": true
   },
   "outputs": [],
   "source": [
    "def get_SN_name(file):\n",
    "    #returns the lowercase name of a SN given the spectrum file name\n",
    "    #YOUR CODE GOES HERE\n",
    "    pass #remove this when finished"
   ]
  },
  {
   "cell_type": "code",
   "execution_count": null,
   "metadata": {
    "collapsed": true
   },
   "outputs": [],
   "source": [
    "def make_z_dict(file):\n",
    "    #reads in CfA4_info.txt\n",
    "    #returns a dictionary with SN names as keys nd redshifts as values\n",
    "    #YOUR CODE GOES HERE\n",
    "    pass #remove this when finished"
   ]
  },
  {
   "cell_type": "code",
   "execution_count": 9,
   "metadata": {
    "collapsed": true
   },
   "outputs": [],
   "source": [
    "#TEST YOUR CODE ON ONE OBJECT (plot original spectrum, deredshifted spectrum, and the smoothed deredshifted spectrum, print velocity)\n",
    "#YOUR CODE GOES HERE\n",
    "sndata = glob.glob(\"*.flm\")\n",
    "wavelength, flux, flux_error = np.loadtxt(sndata[0], unpack = True)\n",
    "z = 0.017192 #obtain from NED\n",
    "print(sndata)\n",
    "\n",
    "dered_wave = deredshift(wavelength, z)\n",
    "sm_flux = gsmooth(dered_wave, flux, flux_error)"
   ]
  },
  {
   "cell_type": "code",
   "execution_count": 14,
   "metadata": {
    "collapsed": true
   },
   "outputs": [],
   "source": [
    "#FINAL SCRIPT STEPS\n",
    "#1) Get array of all flm file names\n",
    "#2) Make redshift dictionary\n",
    "#3) loop through files\n",
    "    #a) read in spectrum\n",
    "    #b) get SN name from file name\n",
    "    #c) get redshift from dictionary\n",
    "    #d) deredshift\n",
    "    #e) smooth\n",
    "    #f) find wavelength where Si line is minimum\n",
    "    #g) find and print velocity (and SN name)"
   ]
  },
  {
   "cell_type": "code",
   "execution_count": 15,
   "metadata": {
    "collapsed": true
   },
   "outputs": [],
   "source": [
    "#YOUR CODE GOES HERE!"
   ]
  },
  {
   "cell_type": "code",
   "execution_count": null,
   "metadata": {
    "collapsed": true
   },
   "outputs": [],
   "source": []
  }
 ],
 "metadata": {
  "anaconda-cloud": {},
  "kernelspec": {
   "display_name": "Python [conda env:python3]",
   "language": "python",
   "name": "conda-env-python3-py"
  },
  "language_info": {
   "codemirror_mode": {
    "name": "ipython",
    "version": 3
   },
   "file_extension": ".py",
   "mimetype": "text/x-python",
   "name": "python",
   "nbconvert_exporter": "python",
   "pygments_lexer": "ipython3",
   "version": "3.6.1"
  }
 },
 "nbformat": 4,
 "nbformat_minor": 2
}
